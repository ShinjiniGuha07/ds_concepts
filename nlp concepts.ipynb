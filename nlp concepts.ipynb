{
 "cells": [
  {
   "cell_type": "markdown",
   "id": "34cbed95-62f2-4236-86d3-0b071be03f25",
   "metadata": {},
   "source": [
    "# Introduction to NLP preprocessing and encoding"
   ]
  },
  {
   "cell_type": "markdown",
   "id": "53e9350f-03ce-45d7-910d-f78435377d95",
   "metadata": {
    "tags": []
   },
   "source": [
    "## Part 1: Preprocessing"
   ]
  },
  {
   "cell_type": "markdown",
   "id": "8fa8f4bb-5d7d-42b4-952a-d7cd246d461f",
   "metadata": {},
   "source": [
    "We will be using a subsample of Twitter data from this dataset: https://www.kaggle.com/datasets/monogenea/game-of-thrones-twitter?resource=download"
   ]
  },
  {
   "cell_type": "code",
   "execution_count": 182,
   "id": "f931215a-e2a0-41e0-b307-c755d05c85d3",
   "metadata": {},
   "outputs": [],
   "source": [
    "import pandas as pd\n",
    "import numpy as np\n",
    "# read in the gotTwitter dataset we will be working with\n",
    "got_data = pd.read_csv('gotTwitter.csv', dtype='str')"
   ]
  },
  {
   "cell_type": "code",
   "execution_count": 183,
   "id": "3acdbd9e-9450-4fc5-9067-5b4f37b7581a",
   "metadata": {},
   "outputs": [
    {
     "data": {
      "text/html": [
       "<div>\n",
       "<style scoped>\n",
       "    .dataframe tbody tr th:only-of-type {\n",
       "        vertical-align: middle;\n",
       "    }\n",
       "\n",
       "    .dataframe tbody tr th {\n",
       "        vertical-align: top;\n",
       "    }\n",
       "\n",
       "    .dataframe thead th {\n",
       "        text-align: right;\n",
       "    }\n",
       "</style>\n",
       "<table border=\"1\" class=\"dataframe\">\n",
       "  <thead>\n",
       "    <tr style=\"text-align: right;\">\n",
       "      <th></th>\n",
       "      <th>status_id</th>\n",
       "      <th>created_at</th>\n",
       "      <th>text</th>\n",
       "    </tr>\n",
       "  </thead>\n",
       "  <tbody>\n",
       "    <tr>\n",
       "      <th>0</th>\n",
       "      <td>x1129144346618540033</td>\n",
       "      <td>5/16/2019 21:59</td>\n",
       "      <td>Over 370,000 'Game of Thrones' fans sign petition for remake of season 8 https://t.co/jqxWu4E5k3</td>\n",
       "    </tr>\n",
       "    <tr>\n",
       "      <th>1</th>\n",
       "      <td>x1129144306206298112</td>\n",
       "      <td>5/16/2019 21:59</td>\n",
       "      <td>With both Game of Thrones and The Big Bang Theory ending this week, I&lt;U+2019&gt;m wondering if it would be fun to take hugely-popular, long-running, juggernaut shows I&lt;U+2019&gt;ve never seen a single episode of, and watch JUST the finale, and see what I think?</td>\n",
       "    </tr>\n",
       "    <tr>\n",
       "      <th>2</th>\n",
       "      <td>x1129144249205895171</td>\n",
       "      <td>5/16/2019 21:59</td>\n",
       "      <td>Suddenly, last episode, Daenerys embraced the thrill of genocide, specifically targeting civilians with dragon fire. Personality changes happen in fiction, but not with such lack of subtlety -- not to characters @GameOfThrones respect and understand.\\n\\n https://t.co/FR9HzLcGB0</td>\n",
       "    </tr>\n",
       "    <tr>\n",
       "      <th>3</th>\n",
       "      <td>x1129144246869663745</td>\n",
       "      <td>5/16/2019 21:59</td>\n",
       "      <td>Sprinkles causes a stampede by releasing a limited-time-only &lt;U+2018&gt;Game of Thrones&lt;U+2019&gt; dragon fruit cupcake sold Friday, May 17-Sunday, May 19 https://t.co/9zNhC00Sj4</td>\n",
       "    </tr>\n",
       "    <tr>\n",
       "      <th>4</th>\n",
       "      <td>x1129141956095954956</td>\n",
       "      <td>5/16/2019 21:49</td>\n",
       "      <td>&lt;U+2018&gt;Game of Thrones&lt;U+2019&gt; is airing its final episode, and here&lt;U+2019&gt;s what we&lt;U+2019&gt;ll miss when it ends https://t.co/Adb12iWRqb</td>\n",
       "    </tr>\n",
       "  </tbody>\n",
       "</table>\n",
       "</div>"
      ],
      "text/plain": [
       "              status_id       created_at  \\\n",
       "0  x1129144346618540033  5/16/2019 21:59   \n",
       "1  x1129144306206298112  5/16/2019 21:59   \n",
       "2  x1129144249205895171  5/16/2019 21:59   \n",
       "3  x1129144246869663745  5/16/2019 21:59   \n",
       "4  x1129141956095954956  5/16/2019 21:49   \n",
       "\n",
       "                                                                                                                                                                                                                                                                                     text  \n",
       "0                                                                                                                                                                                        Over 370,000 'Game of Thrones' fans sign petition for remake of season 8 https://t.co/jqxWu4E5k3  \n",
       "1                         With both Game of Thrones and The Big Bang Theory ending this week, I<U+2019>m wondering if it would be fun to take hugely-popular, long-running, juggernaut shows I<U+2019>ve never seen a single episode of, and watch JUST the finale, and see what I think?  \n",
       "2  Suddenly, last episode, Daenerys embraced the thrill of genocide, specifically targeting civilians with dragon fire. Personality changes happen in fiction, but not with such lack of subtlety -- not to characters @GameOfThrones respect and understand.\\n\\n https://t.co/FR9HzLcGB0  \n",
       "3                                                                                                            Sprinkles causes a stampede by releasing a limited-time-only <U+2018>Game of Thrones<U+2019> dragon fruit cupcake sold Friday, May 17-Sunday, May 19 https://t.co/9zNhC00Sj4  \n",
       "4                                                                                                                                              <U+2018>Game of Thrones<U+2019> is airing its final episode, and here<U+2019>s what we<U+2019>ll miss when it ends https://t.co/Adb12iWRqb  "
      ]
     },
     "execution_count": 183,
     "metadata": {},
     "output_type": "execute_result"
    }
   ],
   "source": [
    "# set_option to view full column in notebook\n",
    "pd.set_option('display.max_colwidth', None)\n",
    "\n",
    "# make sure it loaded correctly, there should be 3 columns, an id number, a created_at date, and the text of the tweets\n",
    "got_data.head()"
   ]
  },
  {
   "cell_type": "markdown",
   "id": "09bd9ae1-0b55-493d-a709-7099f825a9bd",
   "metadata": {},
   "source": [
    "#### Remove things like special characters, symbols, punctuation, URLs, etc. from the data that contains little information for a model to learn and are often primarily noise."
   ]
  },
  {
   "cell_type": "code",
   "execution_count": 184,
   "id": "5dd5ca79-1d50-438b-aef3-6dc1cb4dbb62",
   "metadata": {},
   "outputs": [],
   "source": [
    "import re, string #import packages for regex replacement\n",
    "\n",
    "def clean_text_round(row):\n",
    "    row = re.sub(r'http\\S+', '', row) #remove urls\n",
    "    row = re.sub(r\"(?<![@\\w])@(\\w{1,25})\", '', row) #remove mentions\n",
    "    return row\n",
    "\n",
    "clean = lambda x: clean_text_round(x)"
   ]
  },
  {
   "cell_type": "code",
   "execution_count": 185,
   "id": "2fdce03e-6efd-4e37-9fd7-4a0ec5dac6d7",
   "metadata": {},
   "outputs": [
    {
     "data": {
      "text/html": [
       "<div>\n",
       "<style scoped>\n",
       "    .dataframe tbody tr th:only-of-type {\n",
       "        vertical-align: middle;\n",
       "    }\n",
       "\n",
       "    .dataframe tbody tr th {\n",
       "        vertical-align: top;\n",
       "    }\n",
       "\n",
       "    .dataframe thead th {\n",
       "        text-align: right;\n",
       "    }\n",
       "</style>\n",
       "<table border=\"1\" class=\"dataframe\">\n",
       "  <thead>\n",
       "    <tr style=\"text-align: right;\">\n",
       "      <th></th>\n",
       "      <th>status_id</th>\n",
       "      <th>created_at</th>\n",
       "      <th>text</th>\n",
       "    </tr>\n",
       "  </thead>\n",
       "  <tbody>\n",
       "    <tr>\n",
       "      <th>0</th>\n",
       "      <td>x1129144346618540033</td>\n",
       "      <td>5/16/2019 21:59</td>\n",
       "      <td>Over 370,000 'Game of Thrones' fans sign petition for remake of season 8</td>\n",
       "    </tr>\n",
       "    <tr>\n",
       "      <th>1</th>\n",
       "      <td>x1129144306206298112</td>\n",
       "      <td>5/16/2019 21:59</td>\n",
       "      <td>With both Game of Thrones and The Big Bang Theory ending this week, I&lt;U+2019&gt;m wondering if it would be fun to take hugely-popular, long-running, juggernaut shows I&lt;U+2019&gt;ve never seen a single episode of, and watch JUST the finale, and see what I think?</td>\n",
       "    </tr>\n",
       "    <tr>\n",
       "      <th>2</th>\n",
       "      <td>x1129144249205895171</td>\n",
       "      <td>5/16/2019 21:59</td>\n",
       "      <td>Suddenly, last episode, Daenerys embraced the thrill of genocide, specifically targeting civilians with dragon fire. Personality changes happen in fiction, but not with such lack of subtlety -- not to characters  respect and understand.\\n\\n</td>\n",
       "    </tr>\n",
       "    <tr>\n",
       "      <th>3</th>\n",
       "      <td>x1129144246869663745</td>\n",
       "      <td>5/16/2019 21:59</td>\n",
       "      <td>Sprinkles causes a stampede by releasing a limited-time-only &lt;U+2018&gt;Game of Thrones&lt;U+2019&gt; dragon fruit cupcake sold Friday, May 17-Sunday, May 19</td>\n",
       "    </tr>\n",
       "    <tr>\n",
       "      <th>4</th>\n",
       "      <td>x1129141956095954956</td>\n",
       "      <td>5/16/2019 21:49</td>\n",
       "      <td>&lt;U+2018&gt;Game of Thrones&lt;U+2019&gt; is airing its final episode, and here&lt;U+2019&gt;s what we&lt;U+2019&gt;ll miss when it ends</td>\n",
       "    </tr>\n",
       "  </tbody>\n",
       "</table>\n",
       "</div>"
      ],
      "text/plain": [
       "              status_id       created_at  \\\n",
       "0  x1129144346618540033  5/16/2019 21:59   \n",
       "1  x1129144306206298112  5/16/2019 21:59   \n",
       "2  x1129144249205895171  5/16/2019 21:59   \n",
       "3  x1129144246869663745  5/16/2019 21:59   \n",
       "4  x1129141956095954956  5/16/2019 21:49   \n",
       "\n",
       "                                                                                                                                                                                                                                                              text  \n",
       "0                                                                                                                                                                                        Over 370,000 'Game of Thrones' fans sign petition for remake of season 8   \n",
       "1  With both Game of Thrones and The Big Bang Theory ending this week, I<U+2019>m wondering if it would be fun to take hugely-popular, long-running, juggernaut shows I<U+2019>ve never seen a single episode of, and watch JUST the finale, and see what I think?  \n",
       "2                Suddenly, last episode, Daenerys embraced the thrill of genocide, specifically targeting civilians with dragon fire. Personality changes happen in fiction, but not with such lack of subtlety -- not to characters  respect and understand.\\n\\n   \n",
       "3                                                                                                            Sprinkles causes a stampede by releasing a limited-time-only <U+2018>Game of Thrones<U+2019> dragon fruit cupcake sold Friday, May 17-Sunday, May 19   \n",
       "4                                                                                                                                              <U+2018>Game of Thrones<U+2019> is airing its final episode, and here<U+2019>s what we<U+2019>ll miss when it ends   "
      ]
     },
     "execution_count": 185,
     "metadata": {},
     "output_type": "execute_result"
    }
   ],
   "source": [
    "# apply the function above across each row of the text column\n",
    "got_data.loc[:, 'text'] = got_data['text'].apply(clean)\n",
    "got_data.head()"
   ]
  },
  {
   "cell_type": "markdown",
   "id": "8171c272-0bcc-4b01-b62b-36ba006d2fb0",
   "metadata": {},
   "source": [
    "We can see there are still elements that appear noisy, let's add a line to our function:"
   ]
  },
  {
   "cell_type": "code",
   "execution_count": 186,
   "id": "f30e5dd4-3d24-4083-97dd-9add2cc5fa40",
   "metadata": {},
   "outputs": [],
   "source": [
    "\n",
    "def clean_text_round(row):\n",
    "    row = re.sub(r'http\\S+', '', row) #remove urls\n",
    "    row = re.sub(r\"(?<![@\\w])@(\\w{1,25})\", '', row) #remove mentions\n",
    "    row = re.sub(r\"<[^>]+>\", '', row) # remove carrot inserts from collection <---- new operation\n",
    "    return row\n",
    "\n",
    "clean = lambda x: clean_text_round(x)"
   ]
  },
  {
   "cell_type": "code",
   "execution_count": 187,
   "id": "ef403660-708f-4b08-9be6-48ebb32f75ad",
   "metadata": {},
   "outputs": [
    {
     "data": {
      "text/html": [
       "<div>\n",
       "<style scoped>\n",
       "    .dataframe tbody tr th:only-of-type {\n",
       "        vertical-align: middle;\n",
       "    }\n",
       "\n",
       "    .dataframe tbody tr th {\n",
       "        vertical-align: top;\n",
       "    }\n",
       "\n",
       "    .dataframe thead th {\n",
       "        text-align: right;\n",
       "    }\n",
       "</style>\n",
       "<table border=\"1\" class=\"dataframe\">\n",
       "  <thead>\n",
       "    <tr style=\"text-align: right;\">\n",
       "      <th></th>\n",
       "      <th>status_id</th>\n",
       "      <th>created_at</th>\n",
       "      <th>text</th>\n",
       "    </tr>\n",
       "  </thead>\n",
       "  <tbody>\n",
       "    <tr>\n",
       "      <th>0</th>\n",
       "      <td>x1129144346618540033</td>\n",
       "      <td>5/16/2019 21:59</td>\n",
       "      <td>Over 370,000 'Game of Thrones' fans sign petition for remake of season 8</td>\n",
       "    </tr>\n",
       "    <tr>\n",
       "      <th>1</th>\n",
       "      <td>x1129144306206298112</td>\n",
       "      <td>5/16/2019 21:59</td>\n",
       "      <td>With both Game of Thrones and The Big Bang Theory ending this week, Im wondering if it would be fun to take hugely-popular, long-running, juggernaut shows Ive never seen a single episode of, and watch JUST the finale, and see what I think?</td>\n",
       "    </tr>\n",
       "    <tr>\n",
       "      <th>2</th>\n",
       "      <td>x1129144249205895171</td>\n",
       "      <td>5/16/2019 21:59</td>\n",
       "      <td>Suddenly, last episode, Daenerys embraced the thrill of genocide, specifically targeting civilians with dragon fire. Personality changes happen in fiction, but not with such lack of subtlety -- not to characters  respect and understand.\\n\\n</td>\n",
       "    </tr>\n",
       "    <tr>\n",
       "      <th>3</th>\n",
       "      <td>x1129144246869663745</td>\n",
       "      <td>5/16/2019 21:59</td>\n",
       "      <td>Sprinkles causes a stampede by releasing a limited-time-only Game of Thrones dragon fruit cupcake sold Friday, May 17-Sunday, May 19</td>\n",
       "    </tr>\n",
       "    <tr>\n",
       "      <th>4</th>\n",
       "      <td>x1129141956095954956</td>\n",
       "      <td>5/16/2019 21:49</td>\n",
       "      <td>Game of Thrones is airing its final episode, and heres what well miss when it ends</td>\n",
       "    </tr>\n",
       "  </tbody>\n",
       "</table>\n",
       "</div>"
      ],
      "text/plain": [
       "              status_id       created_at  \\\n",
       "0  x1129144346618540033  5/16/2019 21:59   \n",
       "1  x1129144306206298112  5/16/2019 21:59   \n",
       "2  x1129144249205895171  5/16/2019 21:59   \n",
       "3  x1129144246869663745  5/16/2019 21:59   \n",
       "4  x1129141956095954956  5/16/2019 21:49   \n",
       "\n",
       "                                                                                                                                                                                                                                                text  \n",
       "0                                                                                                                                                                          Over 370,000 'Game of Thrones' fans sign petition for remake of season 8   \n",
       "1    With both Game of Thrones and The Big Bang Theory ending this week, Im wondering if it would be fun to take hugely-popular, long-running, juggernaut shows Ive never seen a single episode of, and watch JUST the finale, and see what I think?  \n",
       "2  Suddenly, last episode, Daenerys embraced the thrill of genocide, specifically targeting civilians with dragon fire. Personality changes happen in fiction, but not with such lack of subtlety -- not to characters  respect and understand.\\n\\n   \n",
       "3                                                                                                              Sprinkles causes a stampede by releasing a limited-time-only Game of Thrones dragon fruit cupcake sold Friday, May 17-Sunday, May 19   \n",
       "4                                                                                                                                                                Game of Thrones is airing its final episode, and heres what well miss when it ends   "
      ]
     },
     "execution_count": 187,
     "metadata": {},
     "output_type": "execute_result"
    }
   ],
   "source": [
    "# apply the function above across each row of the text column\n",
    "got_data.loc[:, 'text'] = got_data['text'].apply(clean)\n",
    "got_data.head()"
   ]
  },
  {
   "cell_type": "code",
   "execution_count": 188,
   "id": "74461168-ffa8-401f-99dd-5b3f7f8e2aaf",
   "metadata": {},
   "outputs": [
    {
     "data": {
      "text/html": [
       "<div>\n",
       "<style scoped>\n",
       "    .dataframe tbody tr th:only-of-type {\n",
       "        vertical-align: middle;\n",
       "    }\n",
       "\n",
       "    .dataframe tbody tr th {\n",
       "        vertical-align: top;\n",
       "    }\n",
       "\n",
       "    .dataframe thead th {\n",
       "        text-align: right;\n",
       "    }\n",
       "</style>\n",
       "<table border=\"1\" class=\"dataframe\">\n",
       "  <thead>\n",
       "    <tr style=\"text-align: right;\">\n",
       "      <th></th>\n",
       "      <th>status_id</th>\n",
       "      <th>created_at</th>\n",
       "      <th>text</th>\n",
       "    </tr>\n",
       "  </thead>\n",
       "  <tbody>\n",
       "    <tr>\n",
       "      <th>0</th>\n",
       "      <td>x1129144346618540033</td>\n",
       "      <td>5/16/2019 21:59</td>\n",
       "      <td>Over 370 000  Game of Thrones  fans sign petition for remake of season 8</td>\n",
       "    </tr>\n",
       "    <tr>\n",
       "      <th>1</th>\n",
       "      <td>x1129144306206298112</td>\n",
       "      <td>5/16/2019 21:59</td>\n",
       "      <td>With both Game of Thrones and The Big Bang Theory ending this week  Im wondering if it would be fun to take hugely popular  long running  juggernaut shows Ive never seen a single episode of  and watch JUST the finale  and see what I think</td>\n",
       "    </tr>\n",
       "    <tr>\n",
       "      <th>2</th>\n",
       "      <td>x1129144249205895171</td>\n",
       "      <td>5/16/2019 21:59</td>\n",
       "      <td>Suddenly  last episode  Daenerys embraced the thrill of genocide  specifically targeting civilians with dragon fire  Personality changes happen in fiction  but not with such lack of subtlety    not to characters  respect and understand</td>\n",
       "    </tr>\n",
       "    <tr>\n",
       "      <th>3</th>\n",
       "      <td>x1129144246869663745</td>\n",
       "      <td>5/16/2019 21:59</td>\n",
       "      <td>Sprinkles causes a stampede by releasing a limited time only Game of Thrones dragon fruit cupcake sold Friday  May 17 Sunday  May 19</td>\n",
       "    </tr>\n",
       "    <tr>\n",
       "      <th>4</th>\n",
       "      <td>x1129141956095954956</td>\n",
       "      <td>5/16/2019 21:49</td>\n",
       "      <td>Game of Thrones is airing its final episode  and heres what well miss when it ends</td>\n",
       "    </tr>\n",
       "  </tbody>\n",
       "</table>\n",
       "</div>"
      ],
      "text/plain": [
       "              status_id       created_at  \\\n",
       "0  x1129144346618540033  5/16/2019 21:59   \n",
       "1  x1129144306206298112  5/16/2019 21:59   \n",
       "2  x1129144249205895171  5/16/2019 21:59   \n",
       "3  x1129144246869663745  5/16/2019 21:59   \n",
       "4  x1129141956095954956  5/16/2019 21:49   \n",
       "\n",
       "                                                                                                                                                                                                                                              text  \n",
       "0                                                                                                                                                                        Over 370 000  Game of Thrones  fans sign petition for remake of season 8   \n",
       "1  With both Game of Thrones and The Big Bang Theory ending this week  Im wondering if it would be fun to take hugely popular  long running  juggernaut shows Ive never seen a single episode of  and watch JUST the finale  and see what I think   \n",
       "2    Suddenly  last episode  Daenerys embraced the thrill of genocide  specifically targeting civilians with dragon fire  Personality changes happen in fiction  but not with such lack of subtlety    not to characters  respect and understand    \n",
       "3                                                                                                            Sprinkles causes a stampede by releasing a limited time only Game of Thrones dragon fruit cupcake sold Friday  May 17 Sunday  May 19   \n",
       "4                                                                                                                                                              Game of Thrones is airing its final episode  and heres what well miss when it ends   "
      ]
     },
     "execution_count": 188,
     "metadata": {},
     "output_type": "execute_result"
    }
   ],
   "source": [
    "\n",
    "def clean_text_round(row):\n",
    "    row.lower()\n",
    "    row = re.sub(r'http\\S+', '', row) #remove urls\n",
    "    row = re.sub(r\"(?<![@\\w])@(\\w{1,25})\", '', row) #remove mentions\n",
    "    row = re.sub(r\"<[^>]+>\", '', row) \n",
    "    row = re.sub(r\"\\n\",\"\",row)\n",
    "    row = re.sub(r\"[^\\w\\s]\", \" \", row)\n",
    "    return row\n",
    "\n",
    "clean = lambda x: clean_text_round(x)\n",
    "got_data.loc[:, 'text'] = got_data['text'].apply(clean)\n",
    "got_data.head()"
   ]
  },
  {
   "cell_type": "markdown",
   "id": "c332f8f1-978d-4e0a-949b-84f6c412f73b",
   "metadata": {},
   "source": [
    "#### Lowercase"
   ]
  },
  {
   "cell_type": "markdown",
   "id": "079eb5c8-ed39-47ea-b7ae-d8183a5267b8",
   "metadata": {},
   "source": [
    "There are many ways to lowercase your data, here we use re, feel free to drop in your new lines as we redefine the function"
   ]
  },
  {
   "cell_type": "code",
   "execution_count": 189,
   "id": "eab32be2-a96a-41ca-b509-1d1a55660d1f",
   "metadata": {},
   "outputs": [],
   "source": [
    "# added a new line\n",
    "def clean_text_round(row):\n",
    "    row.lower()\n",
    "    row = re.sub(r'http\\S+', '', row) #remove urls\n",
    "    row = re.sub(r\"(?<![@\\w])@(\\w{1,25})\", '', row) #remove mentions\n",
    "    row = re.sub(r\"<[^>]+>\", '', row) \n",
    "    row = re.sub(r\"\\n\",\"\",row)\n",
    "    row = re.sub(r\"[^\\w\\s]\", \" \", row)\n",
    "    return row\n",
    "\n",
    "clean = lambda x: clean_text_round(x)"
   ]
  },
  {
   "cell_type": "code",
   "execution_count": 190,
   "id": "ebfaf320-00d5-4923-84ab-1ff6a9d4532a",
   "metadata": {},
   "outputs": [
    {
     "data": {
      "text/html": [
       "<div>\n",
       "<style scoped>\n",
       "    .dataframe tbody tr th:only-of-type {\n",
       "        vertical-align: middle;\n",
       "    }\n",
       "\n",
       "    .dataframe tbody tr th {\n",
       "        vertical-align: top;\n",
       "    }\n",
       "\n",
       "    .dataframe thead th {\n",
       "        text-align: right;\n",
       "    }\n",
       "</style>\n",
       "<table border=\"1\" class=\"dataframe\">\n",
       "  <thead>\n",
       "    <tr style=\"text-align: right;\">\n",
       "      <th></th>\n",
       "      <th>status_id</th>\n",
       "      <th>created_at</th>\n",
       "      <th>text</th>\n",
       "    </tr>\n",
       "  </thead>\n",
       "  <tbody>\n",
       "    <tr>\n",
       "      <th>0</th>\n",
       "      <td>x1129144346618540033</td>\n",
       "      <td>5/16/2019 21:59</td>\n",
       "      <td>Over 370 000  Game of Thrones  fans sign petition for remake of season 8</td>\n",
       "    </tr>\n",
       "    <tr>\n",
       "      <th>1</th>\n",
       "      <td>x1129144306206298112</td>\n",
       "      <td>5/16/2019 21:59</td>\n",
       "      <td>With both Game of Thrones and The Big Bang Theory ending this week  Im wondering if it would be fun to take hugely popular  long running  juggernaut shows Ive never seen a single episode of  and watch JUST the finale  and see what I think</td>\n",
       "    </tr>\n",
       "    <tr>\n",
       "      <th>2</th>\n",
       "      <td>x1129144249205895171</td>\n",
       "      <td>5/16/2019 21:59</td>\n",
       "      <td>Suddenly  last episode  Daenerys embraced the thrill of genocide  specifically targeting civilians with dragon fire  Personality changes happen in fiction  but not with such lack of subtlety    not to characters  respect and understand</td>\n",
       "    </tr>\n",
       "    <tr>\n",
       "      <th>3</th>\n",
       "      <td>x1129144246869663745</td>\n",
       "      <td>5/16/2019 21:59</td>\n",
       "      <td>Sprinkles causes a stampede by releasing a limited time only Game of Thrones dragon fruit cupcake sold Friday  May 17 Sunday  May 19</td>\n",
       "    </tr>\n",
       "    <tr>\n",
       "      <th>4</th>\n",
       "      <td>x1129141956095954956</td>\n",
       "      <td>5/16/2019 21:49</td>\n",
       "      <td>Game of Thrones is airing its final episode  and heres what well miss when it ends</td>\n",
       "    </tr>\n",
       "  </tbody>\n",
       "</table>\n",
       "</div>"
      ],
      "text/plain": [
       "              status_id       created_at  \\\n",
       "0  x1129144346618540033  5/16/2019 21:59   \n",
       "1  x1129144306206298112  5/16/2019 21:59   \n",
       "2  x1129144249205895171  5/16/2019 21:59   \n",
       "3  x1129144246869663745  5/16/2019 21:59   \n",
       "4  x1129141956095954956  5/16/2019 21:49   \n",
       "\n",
       "                                                                                                                                                                                                                                              text  \n",
       "0                                                                                                                                                                        Over 370 000  Game of Thrones  fans sign petition for remake of season 8   \n",
       "1  With both Game of Thrones and The Big Bang Theory ending this week  Im wondering if it would be fun to take hugely popular  long running  juggernaut shows Ive never seen a single episode of  and watch JUST the finale  and see what I think   \n",
       "2    Suddenly  last episode  Daenerys embraced the thrill of genocide  specifically targeting civilians with dragon fire  Personality changes happen in fiction  but not with such lack of subtlety    not to characters  respect and understand    \n",
       "3                                                                                                            Sprinkles causes a stampede by releasing a limited time only Game of Thrones dragon fruit cupcake sold Friday  May 17 Sunday  May 19   \n",
       "4                                                                                                                                                              Game of Thrones is airing its final episode  and heres what well miss when it ends   "
      ]
     },
     "execution_count": 190,
     "metadata": {},
     "output_type": "execute_result"
    }
   ],
   "source": [
    "got_data.loc[:, 'text'] = got_data['text'].apply(clean)\n",
    "got_data.head()"
   ]
  },
  {
   "cell_type": "markdown",
   "id": "867c4958-26e6-4013-a17c-3da639447af4",
   "metadata": {},
   "source": [
    "#### Tokenization"
   ]
  },
  {
   "cell_type": "markdown",
   "id": "cbe12340-f4e7-4e97-b796-37aea5551377",
   "metadata": {},
   "source": [
    "Again, there are many ways to tokenize. The package NLTK has built in functions to help us tokenize in different ways, including by word and by sentence. Here, we tokenize using a special tweet tokenizer that is able to take things like emojis into account. Read the documentation here: https://www.nltk.org/api/nltk.tokenize.html"
   ]
  },
  {
   "cell_type": "code",
   "execution_count": 191,
   "id": "69915ef9-f53b-47bb-a689-c14f12dc9237",
   "metadata": {},
   "outputs": [],
   "source": [
    "# import tokenizer from nltk\n",
    "from nltk.tokenize import TweetTokenizer\n",
    "tweet_tokenizer = TweetTokenizer() \n",
    "\n",
    "def tweet_tokenize(row):\n",
    "    row = tweet_tokenizer.tokenize(row)\n",
    "    return row\n",
    "\n",
    "tokenized = lambda x: tweet_tokenize(x)"
   ]
  },
  {
   "cell_type": "code",
   "execution_count": 192,
   "id": "9378e6b2-88a9-41a8-ab6e-d32d4bcf7575",
   "metadata": {},
   "outputs": [
    {
     "data": {
      "text/html": [
       "<div>\n",
       "<style scoped>\n",
       "    .dataframe tbody tr th:only-of-type {\n",
       "        vertical-align: middle;\n",
       "    }\n",
       "\n",
       "    .dataframe tbody tr th {\n",
       "        vertical-align: top;\n",
       "    }\n",
       "\n",
       "    .dataframe thead th {\n",
       "        text-align: right;\n",
       "    }\n",
       "</style>\n",
       "<table border=\"1\" class=\"dataframe\">\n",
       "  <thead>\n",
       "    <tr style=\"text-align: right;\">\n",
       "      <th></th>\n",
       "      <th>status_id</th>\n",
       "      <th>created_at</th>\n",
       "      <th>text</th>\n",
       "    </tr>\n",
       "  </thead>\n",
       "  <tbody>\n",
       "    <tr>\n",
       "      <th>0</th>\n",
       "      <td>x1129144346618540033</td>\n",
       "      <td>5/16/2019 21:59</td>\n",
       "      <td>[Over, 370, 000, Game, of, Thrones, fans, sign, petition, for, remake, of, season, 8]</td>\n",
       "    </tr>\n",
       "    <tr>\n",
       "      <th>1</th>\n",
       "      <td>x1129144306206298112</td>\n",
       "      <td>5/16/2019 21:59</td>\n",
       "      <td>[With, both, Game, of, Thrones, and, The, Big, Bang, Theory, ending, this, week, Im, wondering, if, it, would, be, fun, to, take, hugely, popular, long, running, juggernaut, shows, Ive, never, seen, a, single, episode, of, and, watch, JUST, the, finale, and, see, what, I, think]</td>\n",
       "    </tr>\n",
       "    <tr>\n",
       "      <th>2</th>\n",
       "      <td>x1129144249205895171</td>\n",
       "      <td>5/16/2019 21:59</td>\n",
       "      <td>[Suddenly, last, episode, Daenerys, embraced, the, thrill, of, genocide, specifically, targeting, civilians, with, dragon, fire, Personality, changes, happen, in, fiction, but, not, with, such, lack, of, subtlety, not, to, characters, respect, and, understand]</td>\n",
       "    </tr>\n",
       "    <tr>\n",
       "      <th>3</th>\n",
       "      <td>x1129144246869663745</td>\n",
       "      <td>5/16/2019 21:59</td>\n",
       "      <td>[Sprinkles, causes, a, stampede, by, releasing, a, limited, time, only, Game, of, Thrones, dragon, fruit, cupcake, sold, Friday, May, 17, Sunday, May, 19]</td>\n",
       "    </tr>\n",
       "    <tr>\n",
       "      <th>4</th>\n",
       "      <td>x1129141956095954956</td>\n",
       "      <td>5/16/2019 21:49</td>\n",
       "      <td>[Game, of, Thrones, is, airing, its, final, episode, and, heres, what, well, miss, when, it, ends]</td>\n",
       "    </tr>\n",
       "  </tbody>\n",
       "</table>\n",
       "</div>"
      ],
      "text/plain": [
       "              status_id       created_at  \\\n",
       "0  x1129144346618540033  5/16/2019 21:59   \n",
       "1  x1129144306206298112  5/16/2019 21:59   \n",
       "2  x1129144249205895171  5/16/2019 21:59   \n",
       "3  x1129144246869663745  5/16/2019 21:59   \n",
       "4  x1129141956095954956  5/16/2019 21:49   \n",
       "\n",
       "                                                                                                                                                                                                                                                                                      text  \n",
       "0                                                                                                                                                                                                    [Over, 370, 000, Game, of, Thrones, fans, sign, petition, for, remake, of, season, 8]  \n",
       "1  [With, both, Game, of, Thrones, and, The, Big, Bang, Theory, ending, this, week, Im, wondering, if, it, would, be, fun, to, take, hugely, popular, long, running, juggernaut, shows, Ive, never, seen, a, single, episode, of, and, watch, JUST, the, finale, and, see, what, I, think]  \n",
       "2                     [Suddenly, last, episode, Daenerys, embraced, the, thrill, of, genocide, specifically, targeting, civilians, with, dragon, fire, Personality, changes, happen, in, fiction, but, not, with, such, lack, of, subtlety, not, to, characters, respect, and, understand]  \n",
       "3                                                                                                                               [Sprinkles, causes, a, stampede, by, releasing, a, limited, time, only, Game, of, Thrones, dragon, fruit, cupcake, sold, Friday, May, 17, Sunday, May, 19]  \n",
       "4                                                                                                                                                                                       [Game, of, Thrones, is, airing, its, final, episode, and, heres, what, well, miss, when, it, ends]  "
      ]
     },
     "execution_count": 192,
     "metadata": {},
     "output_type": "execute_result"
    }
   ],
   "source": [
    "got_data.loc[:, 'text'] = got_data['text'].apply(tokenized)\n",
    "got_data.head()"
   ]
  },
  {
   "cell_type": "markdown",
   "id": "1a684f98-0a0c-44d5-a742-18adf9c806f0",
   "metadata": {},
   "source": [
    "#### Remove stop words"
   ]
  },
  {
   "cell_type": "code",
   "execution_count": 196,
   "id": "367b9cf1-1434-4681-bcfe-ec1a6824ce5b",
   "metadata": {},
   "outputs": [
    {
     "name": "stderr",
     "output_type": "stream",
     "text": [
      "[nltk_data] Downloading package stopwords to\n",
      "[nltk_data]     /Users/ishadoshi/nltk_data...\n",
      "[nltk_data]   Package stopwords is already up-to-date!\n"
     ]
    }
   ],
   "source": [
    "import nltk\n",
    "nltk.download('stopwords')\n",
    "from nltk.corpus import stopwords\n",
    "\n",
    "stopeng = set(stopwords.words('english'))\n",
    "\n",
    "def remove_stopwords(row):\n",
    "    row = [w for w in row if w not in stopeng]\n",
    "    return row\n",
    "\n",
    "no_stopwords = lambda x: remove_stopwords(x)"
   ]
  },
  {
   "cell_type": "code",
   "execution_count": 197,
   "id": "14a6473f-6108-4fbc-8801-526cac47a96a",
   "metadata": {},
   "outputs": [
    {
     "data": {
      "text/html": [
       "<div>\n",
       "<style scoped>\n",
       "    .dataframe tbody tr th:only-of-type {\n",
       "        vertical-align: middle;\n",
       "    }\n",
       "\n",
       "    .dataframe tbody tr th {\n",
       "        vertical-align: top;\n",
       "    }\n",
       "\n",
       "    .dataframe thead th {\n",
       "        text-align: right;\n",
       "    }\n",
       "</style>\n",
       "<table border=\"1\" class=\"dataframe\">\n",
       "  <thead>\n",
       "    <tr style=\"text-align: right;\">\n",
       "      <th></th>\n",
       "      <th>status_id</th>\n",
       "      <th>created_at</th>\n",
       "      <th>text</th>\n",
       "    </tr>\n",
       "  </thead>\n",
       "  <tbody>\n",
       "    <tr>\n",
       "      <th>0</th>\n",
       "      <td>x1129144346618540033</td>\n",
       "      <td>5/16/2019 21:59</td>\n",
       "      <td>[Over, 370, 000, Game, Thrones, fans, sign, petition, remake, season, 8]</td>\n",
       "    </tr>\n",
       "    <tr>\n",
       "      <th>1</th>\n",
       "      <td>x1129144306206298112</td>\n",
       "      <td>5/16/2019 21:59</td>\n",
       "      <td>[With, Game, Thrones, The, Big, Bang, Theory, ending, week, Im, wondering, would, fun, take, hugely, popular, long, running, juggernaut, shows, Ive, never, seen, single, episode, watch, JUST, finale, see, I, think]</td>\n",
       "    </tr>\n",
       "    <tr>\n",
       "      <th>2</th>\n",
       "      <td>x1129144249205895171</td>\n",
       "      <td>5/16/2019 21:59</td>\n",
       "      <td>[Suddenly, last, episode, Daenerys, embraced, thrill, genocide, specifically, targeting, civilians, dragon, fire, Personality, changes, happen, fiction, lack, subtlety, characters, respect, understand]</td>\n",
       "    </tr>\n",
       "    <tr>\n",
       "      <th>3</th>\n",
       "      <td>x1129144246869663745</td>\n",
       "      <td>5/16/2019 21:59</td>\n",
       "      <td>[Sprinkles, causes, stampede, releasing, limited, time, Game, Thrones, dragon, fruit, cupcake, sold, Friday, May, 17, Sunday, May, 19]</td>\n",
       "    </tr>\n",
       "    <tr>\n",
       "      <th>4</th>\n",
       "      <td>x1129141956095954956</td>\n",
       "      <td>5/16/2019 21:49</td>\n",
       "      <td>[Game, Thrones, airing, final, episode, heres, well, miss, ends]</td>\n",
       "    </tr>\n",
       "  </tbody>\n",
       "</table>\n",
       "</div>"
      ],
      "text/plain": [
       "              status_id       created_at  \\\n",
       "0  x1129144346618540033  5/16/2019 21:59   \n",
       "1  x1129144306206298112  5/16/2019 21:59   \n",
       "2  x1129144249205895171  5/16/2019 21:59   \n",
       "3  x1129144246869663745  5/16/2019 21:59   \n",
       "4  x1129141956095954956  5/16/2019 21:49   \n",
       "\n",
       "                                                                                                                                                                                                                     text  \n",
       "0                                                                                                                                                [Over, 370, 000, Game, Thrones, fans, sign, petition, remake, season, 8]  \n",
       "1  [With, Game, Thrones, The, Big, Bang, Theory, ending, week, Im, wondering, would, fun, take, hugely, popular, long, running, juggernaut, shows, Ive, never, seen, single, episode, watch, JUST, finale, see, I, think]  \n",
       "2               [Suddenly, last, episode, Daenerys, embraced, thrill, genocide, specifically, targeting, civilians, dragon, fire, Personality, changes, happen, fiction, lack, subtlety, characters, respect, understand]  \n",
       "3                                                                                  [Sprinkles, causes, stampede, releasing, limited, time, Game, Thrones, dragon, fruit, cupcake, sold, Friday, May, 17, Sunday, May, 19]  \n",
       "4                                                                                                                                                        [Game, Thrones, airing, final, episode, heres, well, miss, ends]  "
      ]
     },
     "execution_count": 197,
     "metadata": {},
     "output_type": "execute_result"
    }
   ],
   "source": [
    "got_data.loc[:, 'text'] = got_data['text'].apply(no_stopwords)\n",
    "got_data.head()"
   ]
  },
  {
   "cell_type": "markdown",
   "id": "7f1d8b09-1ef7-493c-9d70-8b02dfde8312",
   "metadata": {},
   "source": [
    "#### Lemmatization/Stemming"
   ]
  },
  {
   "cell_type": "code",
   "execution_count": 198,
   "id": "78feee6d-078f-4e1a-beb0-e9ec283c31c3",
   "metadata": {},
   "outputs": [
    {
     "name": "stderr",
     "output_type": "stream",
     "text": [
      "[nltk_data] Downloading package wordnet to\n",
      "[nltk_data]     /Users/ishadoshi/nltk_data...\n",
      "[nltk_data]   Package wordnet is already up-to-date!\n",
      "[nltk_data] Downloading package omw-1.4 to\n",
      "[nltk_data]     /Users/ishadoshi/nltk_data...\n",
      "[nltk_data]   Package omw-1.4 is already up-to-date!\n"
     ]
    }
   ],
   "source": [
    "\n",
    "import nltk\n",
    "nltk.download('wordnet')\n",
    "nltk.download('omw-1.4')\n",
    "from nltk.corpus import wordnet\n",
    "from nltk.stem.wordnet import WordNetLemmatizer\n",
    "\n",
    "lmtzr = WordNetLemmatizer()\n",
    "\n",
    "\n",
    "def lemmatize(row):\n",
    "    row = [lmtzr.lemmatize(token) for token in row]\n",
    "    row = ' '.join(row) # this is the final step of our guided walkthrough, so I have re-joined the tweets into single documents instead of lists\n",
    "    return row\n",
    "\n",
    "lemmatized = lambda x: lemmatize(x)"
   ]
  },
  {
   "cell_type": "code",
   "execution_count": 199,
   "id": "dae4e1c6-edc0-4595-af49-ca602ae8d30d",
   "metadata": {},
   "outputs": [
    {
     "data": {
      "text/html": [
       "<div>\n",
       "<style scoped>\n",
       "    .dataframe tbody tr th:only-of-type {\n",
       "        vertical-align: middle;\n",
       "    }\n",
       "\n",
       "    .dataframe tbody tr th {\n",
       "        vertical-align: top;\n",
       "    }\n",
       "\n",
       "    .dataframe thead th {\n",
       "        text-align: right;\n",
       "    }\n",
       "</style>\n",
       "<table border=\"1\" class=\"dataframe\">\n",
       "  <thead>\n",
       "    <tr style=\"text-align: right;\">\n",
       "      <th></th>\n",
       "      <th>status_id</th>\n",
       "      <th>created_at</th>\n",
       "      <th>text</th>\n",
       "    </tr>\n",
       "  </thead>\n",
       "  <tbody>\n",
       "    <tr>\n",
       "      <th>0</th>\n",
       "      <td>x1129144346618540033</td>\n",
       "      <td>5/16/2019 21:59</td>\n",
       "      <td>Over 370 000 Game Thrones fan sign petition remake season 8</td>\n",
       "    </tr>\n",
       "    <tr>\n",
       "      <th>1</th>\n",
       "      <td>x1129144306206298112</td>\n",
       "      <td>5/16/2019 21:59</td>\n",
       "      <td>With Game Thrones The Big Bang Theory ending week Im wondering would fun take hugely popular long running juggernaut show Ive never seen single episode watch JUST finale see I think</td>\n",
       "    </tr>\n",
       "    <tr>\n",
       "      <th>2</th>\n",
       "      <td>x1129144249205895171</td>\n",
       "      <td>5/16/2019 21:59</td>\n",
       "      <td>Suddenly last episode Daenerys embraced thrill genocide specifically targeting civilian dragon fire Personality change happen fiction lack subtlety character respect understand</td>\n",
       "    </tr>\n",
       "    <tr>\n",
       "      <th>3</th>\n",
       "      <td>x1129144246869663745</td>\n",
       "      <td>5/16/2019 21:59</td>\n",
       "      <td>Sprinkles cause stampede releasing limited time Game Thrones dragon fruit cupcake sold Friday May 17 Sunday May 19</td>\n",
       "    </tr>\n",
       "    <tr>\n",
       "      <th>4</th>\n",
       "      <td>x1129141956095954956</td>\n",
       "      <td>5/16/2019 21:49</td>\n",
       "      <td>Game Thrones airing final episode here well miss end</td>\n",
       "    </tr>\n",
       "  </tbody>\n",
       "</table>\n",
       "</div>"
      ],
      "text/plain": [
       "              status_id       created_at  \\\n",
       "0  x1129144346618540033  5/16/2019 21:59   \n",
       "1  x1129144306206298112  5/16/2019 21:59   \n",
       "2  x1129144249205895171  5/16/2019 21:59   \n",
       "3  x1129144246869663745  5/16/2019 21:59   \n",
       "4  x1129141956095954956  5/16/2019 21:49   \n",
       "\n",
       "                                                                                                                                                                                    text  \n",
       "0                                                                                                                            Over 370 000 Game Thrones fan sign petition remake season 8  \n",
       "1  With Game Thrones The Big Bang Theory ending week Im wondering would fun take hugely popular long running juggernaut show Ive never seen single episode watch JUST finale see I think  \n",
       "2       Suddenly last episode Daenerys embraced thrill genocide specifically targeting civilian dragon fire Personality change happen fiction lack subtlety character respect understand  \n",
       "3                                                                     Sprinkles cause stampede releasing limited time Game Thrones dragon fruit cupcake sold Friday May 17 Sunday May 19  \n",
       "4                                                                                                                                   Game Thrones airing final episode here well miss end  "
      ]
     },
     "execution_count": 199,
     "metadata": {},
     "output_type": "execute_result"
    }
   ],
   "source": [
    "got_data.loc[:, 'text'] = got_data['text'].apply(lemmatized)\n",
    "got_data.head()"
   ]
  },
  {
   "cell_type": "markdown",
   "id": "a2b20c4f-e3df-4eb4-9700-c6bb5101aaf2",
   "metadata": {},
   "source": [
    "How would you apply stemming? Hint: https://www.nltk.org/howto/stem.html"
   ]
  },
  {
   "cell_type": "code",
   "execution_count": 202,
   "id": "e3df92b0-21da-4699-976f-3ebc7466858a",
   "metadata": {},
   "outputs": [
    {
     "data": {
      "text/html": [
       "<div>\n",
       "<style scoped>\n",
       "    .dataframe tbody tr th:only-of-type {\n",
       "        vertical-align: middle;\n",
       "    }\n",
       "\n",
       "    .dataframe tbody tr th {\n",
       "        vertical-align: top;\n",
       "    }\n",
       "\n",
       "    .dataframe thead th {\n",
       "        text-align: right;\n",
       "    }\n",
       "</style>\n",
       "<table border=\"1\" class=\"dataframe\">\n",
       "  <thead>\n",
       "    <tr style=\"text-align: right;\">\n",
       "      <th></th>\n",
       "      <th>status_id</th>\n",
       "      <th>created_at</th>\n",
       "      <th>text</th>\n",
       "      <th>stemmed_text</th>\n",
       "    </tr>\n",
       "  </thead>\n",
       "  <tbody>\n",
       "    <tr>\n",
       "      <th>0</th>\n",
       "      <td>x1129144346618540033</td>\n",
       "      <td>5/16/2019 21:59</td>\n",
       "      <td>Over 370 000 Game Thrones fan sign petition remake season 8</td>\n",
       "      <td>over 370 000 game throne fan sign petit remak season 8</td>\n",
       "    </tr>\n",
       "    <tr>\n",
       "      <th>1</th>\n",
       "      <td>x1129144306206298112</td>\n",
       "      <td>5/16/2019 21:59</td>\n",
       "      <td>With Game Thrones The Big Bang Theory ending week Im wondering would fun take hugely popular long running juggernaut show Ive never seen single episode watch JUST finale see I think</td>\n",
       "      <td>with game throne the big bang theori end week im wonder would fun take huge popular long run juggernaut show ive never seen singl episod watch just final see i think</td>\n",
       "    </tr>\n",
       "    <tr>\n",
       "      <th>2</th>\n",
       "      <td>x1129144249205895171</td>\n",
       "      <td>5/16/2019 21:59</td>\n",
       "      <td>Suddenly last episode Daenerys embraced thrill genocide specifically targeting civilian dragon fire Personality change happen fiction lack subtlety character respect understand</td>\n",
       "      <td>suddenli last episod daeneri embrac thrill genocid specif target civilian dragon fire person chang happen fiction lack subtleti charact respect understand</td>\n",
       "    </tr>\n",
       "    <tr>\n",
       "      <th>3</th>\n",
       "      <td>x1129144246869663745</td>\n",
       "      <td>5/16/2019 21:59</td>\n",
       "      <td>Sprinkles cause stampede releasing limited time Game Thrones dragon fruit cupcake sold Friday May 17 Sunday May 19</td>\n",
       "      <td>sprinkl caus stamped releas limit time game throne dragon fruit cupcak sold friday may 17 sunday may 19</td>\n",
       "    </tr>\n",
       "    <tr>\n",
       "      <th>4</th>\n",
       "      <td>x1129141956095954956</td>\n",
       "      <td>5/16/2019 21:49</td>\n",
       "      <td>Game Thrones airing final episode here well miss end</td>\n",
       "      <td>game throne air final episod here well miss end</td>\n",
       "    </tr>\n",
       "  </tbody>\n",
       "</table>\n",
       "</div>"
      ],
      "text/plain": [
       "              status_id       created_at  \\\n",
       "0  x1129144346618540033  5/16/2019 21:59   \n",
       "1  x1129144306206298112  5/16/2019 21:59   \n",
       "2  x1129144249205895171  5/16/2019 21:59   \n",
       "3  x1129144246869663745  5/16/2019 21:59   \n",
       "4  x1129141956095954956  5/16/2019 21:49   \n",
       "\n",
       "                                                                                                                                                                                    text  \\\n",
       "0                                                                                                                            Over 370 000 Game Thrones fan sign petition remake season 8   \n",
       "1  With Game Thrones The Big Bang Theory ending week Im wondering would fun take hugely popular long running juggernaut show Ive never seen single episode watch JUST finale see I think   \n",
       "2       Suddenly last episode Daenerys embraced thrill genocide specifically targeting civilian dragon fire Personality change happen fiction lack subtlety character respect understand   \n",
       "3                                                                     Sprinkles cause stampede releasing limited time Game Thrones dragon fruit cupcake sold Friday May 17 Sunday May 19   \n",
       "4                                                                                                                                   Game Thrones airing final episode here well miss end   \n",
       "\n",
       "                                                                                                                                                            stemmed_text  \n",
       "0                                                                                                                 over 370 000 game throne fan sign petit remak season 8  \n",
       "1  with game throne the big bang theori end week im wonder would fun take huge popular long run juggernaut show ive never seen singl episod watch just final see i think  \n",
       "2             suddenli last episod daeneri embrac thrill genocid specif target civilian dragon fire person chang happen fiction lack subtleti charact respect understand  \n",
       "3                                                                sprinkl caus stamped releas limit time game throne dragon fruit cupcak sold friday may 17 sunday may 19  \n",
       "4                                                                                                                        game throne air final episod here well miss end  "
      ]
     },
     "execution_count": 202,
     "metadata": {},
     "output_type": "execute_result"
    }
   ],
   "source": [
    "from nltk.stem import PorterStemmer\n",
    "\n",
    "stemmer = PorterStemmer()\n",
    "\n",
    "def stem_text(text):\n",
    "    words = text.split()\n",
    "    stemmed_words = [stemmer.stem(word) for word in words]\n",
    "    return ' '.join(stemmed_words)\n",
    "\n",
    "got_data['stemmed_text'] = got_data['text'].apply(stem_text)\n",
    "got_data.head()"
   ]
  },
  {
   "cell_type": "markdown",
   "id": "60d9d88f-f78d-4cd2-9861-93c6e7455624",
   "metadata": {},
   "source": [
    "If you have extra time: how might you split our data into ngrams? Hint: https://www.nltk.org/api/nltk.util.html#nltk.util.ngrams"
   ]
  },
  {
   "cell_type": "code",
   "execution_count": 203,
   "id": "ceb7adb1-d4e5-4753-a503-d6be0705790c",
   "metadata": {},
   "outputs": [
    {
     "data": {
      "text/html": [
       "<div>\n",
       "<style scoped>\n",
       "    .dataframe tbody tr th:only-of-type {\n",
       "        vertical-align: middle;\n",
       "    }\n",
       "\n",
       "    .dataframe tbody tr th {\n",
       "        vertical-align: top;\n",
       "    }\n",
       "\n",
       "    .dataframe thead th {\n",
       "        text-align: right;\n",
       "    }\n",
       "</style>\n",
       "<table border=\"1\" class=\"dataframe\">\n",
       "  <thead>\n",
       "    <tr style=\"text-align: right;\">\n",
       "      <th></th>\n",
       "      <th>status_id</th>\n",
       "      <th>created_at</th>\n",
       "      <th>text</th>\n",
       "      <th>stemmed_text</th>\n",
       "      <th>bigrams</th>\n",
       "    </tr>\n",
       "  </thead>\n",
       "  <tbody>\n",
       "    <tr>\n",
       "      <th>0</th>\n",
       "      <td>x1129144346618540033</td>\n",
       "      <td>5/16/2019 21:59</td>\n",
       "      <td>Over 370 000 Game Thrones fan sign petition remake season 8</td>\n",
       "      <td>over 370 000 game throne fan sign petit remak season 8</td>\n",
       "      <td>[(Over, 370), (370, 000), (000, Game), (Game, Thrones), (Thrones, fan), (fan, sign), (sign, petition), (petition, remake), (remake, season), (season, 8)]</td>\n",
       "    </tr>\n",
       "    <tr>\n",
       "      <th>1</th>\n",
       "      <td>x1129144306206298112</td>\n",
       "      <td>5/16/2019 21:59</td>\n",
       "      <td>With Game Thrones The Big Bang Theory ending week Im wondering would fun take hugely popular long running juggernaut show Ive never seen single episode watch JUST finale see I think</td>\n",
       "      <td>with game throne the big bang theori end week im wonder would fun take huge popular long run juggernaut show ive never seen singl episod watch just final see i think</td>\n",
       "      <td>[(With, Game), (Game, Thrones), (Thrones, The), (The, Big), (Big, Bang), (Bang, Theory), (Theory, ending), (ending, week), (week, Im), (Im, wondering), (wondering, would), (would, fun), (fun, take), (take, hugely), (hugely, popular), (popular, long), (long, running), (running, juggernaut), (juggernaut, show), (show, Ive), (Ive, never), (never, seen), (seen, single), (single, episode), (episode, watch), (watch, JUST), (JUST, finale), (finale, see), (see, I), (I, think)]</td>\n",
       "    </tr>\n",
       "    <tr>\n",
       "      <th>2</th>\n",
       "      <td>x1129144249205895171</td>\n",
       "      <td>5/16/2019 21:59</td>\n",
       "      <td>Suddenly last episode Daenerys embraced thrill genocide specifically targeting civilian dragon fire Personality change happen fiction lack subtlety character respect understand</td>\n",
       "      <td>suddenli last episod daeneri embrac thrill genocid specif target civilian dragon fire person chang happen fiction lack subtleti charact respect understand</td>\n",
       "      <td>[(Suddenly, last), (last, episode), (episode, Daenerys), (Daenerys, embraced), (embraced, thrill), (thrill, genocide), (genocide, specifically), (specifically, targeting), (targeting, civilian), (civilian, dragon), (dragon, fire), (fire, Personality), (Personality, change), (change, happen), (happen, fiction), (fiction, lack), (lack, subtlety), (subtlety, character), (character, respect), (respect, understand)]</td>\n",
       "    </tr>\n",
       "    <tr>\n",
       "      <th>3</th>\n",
       "      <td>x1129144246869663745</td>\n",
       "      <td>5/16/2019 21:59</td>\n",
       "      <td>Sprinkles cause stampede releasing limited time Game Thrones dragon fruit cupcake sold Friday May 17 Sunday May 19</td>\n",
       "      <td>sprinkl caus stamped releas limit time game throne dragon fruit cupcak sold friday may 17 sunday may 19</td>\n",
       "      <td>[(Sprinkles, cause), (cause, stampede), (stampede, releasing), (releasing, limited), (limited, time), (time, Game), (Game, Thrones), (Thrones, dragon), (dragon, fruit), (fruit, cupcake), (cupcake, sold), (sold, Friday), (Friday, May), (May, 17), (17, Sunday), (Sunday, May), (May, 19)]</td>\n",
       "    </tr>\n",
       "    <tr>\n",
       "      <th>4</th>\n",
       "      <td>x1129141956095954956</td>\n",
       "      <td>5/16/2019 21:49</td>\n",
       "      <td>Game Thrones airing final episode here well miss end</td>\n",
       "      <td>game throne air final episod here well miss end</td>\n",
       "      <td>[(Game, Thrones), (Thrones, airing), (airing, final), (final, episode), (episode, here), (here, well), (well, miss), (miss, end)]</td>\n",
       "    </tr>\n",
       "  </tbody>\n",
       "</table>\n",
       "</div>"
      ],
      "text/plain": [
       "              status_id       created_at  \\\n",
       "0  x1129144346618540033  5/16/2019 21:59   \n",
       "1  x1129144306206298112  5/16/2019 21:59   \n",
       "2  x1129144249205895171  5/16/2019 21:59   \n",
       "3  x1129144246869663745  5/16/2019 21:59   \n",
       "4  x1129141956095954956  5/16/2019 21:49   \n",
       "\n",
       "                                                                                                                                                                                    text  \\\n",
       "0                                                                                                                            Over 370 000 Game Thrones fan sign petition remake season 8   \n",
       "1  With Game Thrones The Big Bang Theory ending week Im wondering would fun take hugely popular long running juggernaut show Ive never seen single episode watch JUST finale see I think   \n",
       "2       Suddenly last episode Daenerys embraced thrill genocide specifically targeting civilian dragon fire Personality change happen fiction lack subtlety character respect understand   \n",
       "3                                                                     Sprinkles cause stampede releasing limited time Game Thrones dragon fruit cupcake sold Friday May 17 Sunday May 19   \n",
       "4                                                                                                                                   Game Thrones airing final episode here well miss end   \n",
       "\n",
       "                                                                                                                                                            stemmed_text  \\\n",
       "0                                                                                                                 over 370 000 game throne fan sign petit remak season 8   \n",
       "1  with game throne the big bang theori end week im wonder would fun take huge popular long run juggernaut show ive never seen singl episod watch just final see i think   \n",
       "2             suddenli last episod daeneri embrac thrill genocid specif target civilian dragon fire person chang happen fiction lack subtleti charact respect understand   \n",
       "3                                                                sprinkl caus stamped releas limit time game throne dragon fruit cupcak sold friday may 17 sunday may 19   \n",
       "4                                                                                                                        game throne air final episod here well miss end   \n",
       "\n",
       "                                                                                                                                                                                                                                                                                                                                                                                                                                                                                     bigrams  \n",
       "0                                                                                                                                                                                                                                                                                                                                  [(Over, 370), (370, 000), (000, Game), (Game, Thrones), (Thrones, fan), (fan, sign), (sign, petition), (petition, remake), (remake, season), (season, 8)]  \n",
       "1  [(With, Game), (Game, Thrones), (Thrones, The), (The, Big), (Big, Bang), (Bang, Theory), (Theory, ending), (ending, week), (week, Im), (Im, wondering), (wondering, would), (would, fun), (fun, take), (take, hugely), (hugely, popular), (popular, long), (long, running), (running, juggernaut), (juggernaut, show), (show, Ive), (Ive, never), (never, seen), (seen, single), (single, episode), (episode, watch), (watch, JUST), (JUST, finale), (finale, see), (see, I), (I, think)]  \n",
       "2                                                             [(Suddenly, last), (last, episode), (episode, Daenerys), (Daenerys, embraced), (embraced, thrill), (thrill, genocide), (genocide, specifically), (specifically, targeting), (targeting, civilian), (civilian, dragon), (dragon, fire), (fire, Personality), (Personality, change), (change, happen), (happen, fiction), (fiction, lack), (lack, subtlety), (subtlety, character), (character, respect), (respect, understand)]  \n",
       "3                                                                                                                                                                                              [(Sprinkles, cause), (cause, stampede), (stampede, releasing), (releasing, limited), (limited, time), (time, Game), (Game, Thrones), (Thrones, dragon), (dragon, fruit), (fruit, cupcake), (cupcake, sold), (sold, Friday), (Friday, May), (May, 17), (17, Sunday), (Sunday, May), (May, 19)]  \n",
       "4                                                                                                                                                                                                                                                                                                                                                          [(Game, Thrones), (Thrones, airing), (airing, final), (final, episode), (episode, here), (here, well), (well, miss), (miss, end)]  "
      ]
     },
     "execution_count": 203,
     "metadata": {},
     "output_type": "execute_result"
    }
   ],
   "source": [
    "from nltk import ngrams\n",
    "\n",
    "def get_bigrams(text):\n",
    "    bigrams = ngrams(text.split(), 2)\n",
    "    return list(bigrams)\n",
    "\n",
    "got_data['bigrams'] = got_data['text'].apply(get_bigrams)\n",
    "got_data.head()"
   ]
  },
  {
   "cell_type": "markdown",
   "id": "fdfa83ca-7839-4475-84f9-8a4396319646",
   "metadata": {},
   "source": [
    "#### BOW (bag of words)"
   ]
  },
  {
   "cell_type": "code",
   "execution_count": 204,
   "id": "c2bd3299-ae08-4c9c-8c91-75200edc2994",
   "metadata": {},
   "outputs": [],
   "source": [
    "data_list = got_data.iloc[:50]['text'].to_list()"
   ]
  },
  {
   "cell_type": "code",
   "execution_count": 205,
   "id": "12d53225-bde6-4245-a21b-d7780b786eb4",
   "metadata": {},
   "outputs": [],
   "source": [
    "import sklearn\n",
    "from sklearn.feature_extraction.text import CountVectorizer\n",
    "\n",
    "bow = CountVectorizer()\n",
    "\n",
    "bow_result = bow.fit_transform(data_list)"
   ]
  },
  {
   "cell_type": "code",
   "execution_count": 206,
   "id": "886e03ee-5863-4c80-9e50-eafce6b446fb",
   "metadata": {},
   "outputs": [
    {
     "name": "stdout",
     "output_type": "stream",
     "text": [
      "['thrones' 'destroy' 'parallel' 'penultimate' 'classical' 'history'\n",
      " 'theories' 'queens' 'dany' 'rain']\n"
     ]
    }
   ],
   "source": [
    "import numpy as np\n",
    "\n",
    "feature_array = np.array(bow.get_feature_names_out()) \n",
    "bow_sorting = np.argsort(bow_result.toarray()).flatten()[::-1]\n",
    "\n",
    "n = 10\n",
    "bow_top_n = feature_array[bow_sorting][:n]\n",
    "print(bow_top_n)"
   ]
  },
  {
   "cell_type": "markdown",
   "id": "21a5e315-0b04-4e46-8bd6-9750eba3677c",
   "metadata": {
    "tags": []
   },
   "source": [
    "#### TF-IDF"
   ]
  },
  {
   "cell_type": "code",
   "execution_count": 207,
   "id": "4e84ff90-33c4-43a8-b20c-a8e0eaabccad",
   "metadata": {},
   "outputs": [],
   "source": [
    "from sklearn.feature_extraction.text import TfidfVectorizer\n",
    "\n",
    "# create variable for vectorizer\n",
    "tfidf = TfidfVectorizer()\n",
    " \n",
    "# apply function on data subsample\n",
    "tfidf_result = tfidf.fit_transform(data_list)"
   ]
  },
  {
   "cell_type": "code",
   "execution_count": 208,
   "id": "4b70f6f2-a372-4159-afae-36e23c46e38f",
   "metadata": {},
   "outputs": [
    {
     "name": "stdout",
     "output_type": "stream",
     "text": [
      "['parallel' 'world' 'rain' 'destroy' 'did' 'theories' 'real' 'history'\n",
      " 'kings' 'queens']\n"
     ]
    }
   ],
   "source": [
    "feature_array = np.array(tfidf.get_feature_names_out()) # get_feature_names is dependent on sklearn version\n",
    "tfidf_sorting = np.argsort(tfidf_result.toarray()).flatten()[::-1]\n",
    "\n",
    "n = 10\n",
    "tfidf_top_n = feature_array[tfidf_sorting][:n]\n",
    "print(tfidf_top_n)"
   ]
  },
  {
   "cell_type": "markdown",
   "id": "c40ae008-1973-47f6-a101-dcc1eff1dca0",
   "metadata": {
    "jp-MarkdownHeadingCollapsed": true,
    "tags": []
   },
   "source": [
    "## Part 3: Word Embeddings"
   ]
  },
  {
   "cell_type": "markdown",
   "id": "b2b9c6d5-0ce4-4f97-b6e3-e0a951cbb35b",
   "metadata": {},
   "source": [
    "For our word embedding exploration we will be using the gensim library. Gensim has pretrained embeddings for glove, word2vec, and fasttext;\n",
    "\n",
    "documentation: https://radimrehurek.com/gensim/models/word2vec.html, https://tedboy.github.io/nlps/generated/generated/gensim.models.Word2Vec.html\n"
   ]
  },
  {
   "cell_type": "code",
   "execution_count": 210,
   "id": "ad24e0c2-eecd-4c4f-8341-fd9c32def80b",
   "metadata": {},
   "outputs": [],
   "source": [
    "#pip install gensim\n",
    "import gensim.downloader as api"
   ]
  },
  {
   "cell_type": "code",
   "execution_count": 211,
   "id": "65e3bcc8-e3fb-4c96-b854-c5b9c55d4a2a",
   "metadata": {},
   "outputs": [
    {
     "name": "stdout",
     "output_type": "stream",
     "text": [
      "[--------------------------------------------------] 1.4% 23.4/1662.8MB downloaded"
     ]
    },
    {
     "name": "stderr",
     "output_type": "stream",
     "text": [
      "IOPub message rate exceeded.\n",
      "The notebook server will temporarily stop sending output\n",
      "to the client in order to avoid crashing it.\n",
      "To change this limit, set the config variable\n",
      "`--NotebookApp.iopub_msg_rate_limit`.\n",
      "\n",
      "Current values:\n",
      "NotebookApp.iopub_msg_rate_limit=1000.0 (msgs/sec)\n",
      "NotebookApp.rate_limit_window=3.0 (secs)\n",
      "\n"
     ]
    },
    {
     "name": "stdout",
     "output_type": "stream",
     "text": [
      "[==------------------------------------------------] 4.3% 70.8/1662.8MB downloaded"
     ]
    },
    {
     "name": "stderr",
     "output_type": "stream",
     "text": [
      "IOPub message rate exceeded.\n",
      "The notebook server will temporarily stop sending output\n",
      "to the client in order to avoid crashing it.\n",
      "To change this limit, set the config variable\n",
      "`--NotebookApp.iopub_msg_rate_limit`.\n",
      "\n",
      "Current values:\n",
      "NotebookApp.iopub_msg_rate_limit=1000.0 (msgs/sec)\n",
      "NotebookApp.rate_limit_window=3.0 (secs)\n",
      "\n"
     ]
    },
    {
     "name": "stdout",
     "output_type": "stream",
     "text": [
      "[===-----------------------------------------------] 7.3% 121.1/1662.8MB downloaded"
     ]
    },
    {
     "name": "stderr",
     "output_type": "stream",
     "text": [
      "IOPub message rate exceeded.\n",
      "The notebook server will temporarily stop sending output\n",
      "to the client in order to avoid crashing it.\n",
      "To change this limit, set the config variable\n",
      "`--NotebookApp.iopub_msg_rate_limit`.\n",
      "\n",
      "Current values:\n",
      "NotebookApp.iopub_msg_rate_limit=1000.0 (msgs/sec)\n",
      "NotebookApp.rate_limit_window=3.0 (secs)\n",
      "\n"
     ]
    },
    {
     "name": "stdout",
     "output_type": "stream",
     "text": [
      "[=====---------------------------------------------] 10.5% 174.6/1662.8MB downloaded"
     ]
    },
    {
     "name": "stderr",
     "output_type": "stream",
     "text": [
      "IOPub message rate exceeded.\n",
      "The notebook server will temporarily stop sending output\n",
      "to the client in order to avoid crashing it.\n",
      "To change this limit, set the config variable\n",
      "`--NotebookApp.iopub_msg_rate_limit`.\n",
      "\n",
      "Current values:\n",
      "NotebookApp.iopub_msg_rate_limit=1000.0 (msgs/sec)\n",
      "NotebookApp.rate_limit_window=3.0 (secs)\n",
      "\n"
     ]
    },
    {
     "name": "stdout",
     "output_type": "stream",
     "text": [
      "[======--------------------------------------------] 13.7% 227.6/1662.8MB downloaded"
     ]
    },
    {
     "name": "stderr",
     "output_type": "stream",
     "text": [
      "IOPub message rate exceeded.\n",
      "The notebook server will temporarily stop sending output\n",
      "to the client in order to avoid crashing it.\n",
      "To change this limit, set the config variable\n",
      "`--NotebookApp.iopub_msg_rate_limit`.\n",
      "\n",
      "Current values:\n",
      "NotebookApp.iopub_msg_rate_limit=1000.0 (msgs/sec)\n",
      "NotebookApp.rate_limit_window=3.0 (secs)\n",
      "\n"
     ]
    },
    {
     "name": "stdout",
     "output_type": "stream",
     "text": [
      "[========------------------------------------------] 16.2% 269.3/1662.8MB downloaded"
     ]
    },
    {
     "name": "stderr",
     "output_type": "stream",
     "text": [
      "IOPub message rate exceeded.\n",
      "The notebook server will temporarily stop sending output\n",
      "to the client in order to avoid crashing it.\n",
      "To change this limit, set the config variable\n",
      "`--NotebookApp.iopub_msg_rate_limit`.\n",
      "\n",
      "Current values:\n",
      "NotebookApp.iopub_msg_rate_limit=1000.0 (msgs/sec)\n",
      "NotebookApp.rate_limit_window=3.0 (secs)\n",
      "\n"
     ]
    },
    {
     "name": "stdout",
     "output_type": "stream",
     "text": [
      "[=========-----------------------------------------] 18.3% 303.7/1662.8MB downloaded"
     ]
    },
    {
     "name": "stderr",
     "output_type": "stream",
     "text": [
      "IOPub message rate exceeded.\n",
      "The notebook server will temporarily stop sending output\n",
      "to the client in order to avoid crashing it.\n",
      "To change this limit, set the config variable\n",
      "`--NotebookApp.iopub_msg_rate_limit`.\n",
      "\n",
      "Current values:\n",
      "NotebookApp.iopub_msg_rate_limit=1000.0 (msgs/sec)\n",
      "NotebookApp.rate_limit_window=3.0 (secs)\n",
      "\n"
     ]
    },
    {
     "name": "stdout",
     "output_type": "stream",
     "text": [
      "[==========----------------------------------------] 20.6% 341.8/1662.8MB downloaded"
     ]
    },
    {
     "name": "stderr",
     "output_type": "stream",
     "text": [
      "IOPub message rate exceeded.\n",
      "The notebook server will temporarily stop sending output\n",
      "to the client in order to avoid crashing it.\n",
      "To change this limit, set the config variable\n",
      "`--NotebookApp.iopub_msg_rate_limit`.\n",
      "\n",
      "Current values:\n",
      "NotebookApp.iopub_msg_rate_limit=1000.0 (msgs/sec)\n",
      "NotebookApp.rate_limit_window=3.0 (secs)\n",
      "\n"
     ]
    },
    {
     "name": "stdout",
     "output_type": "stream",
     "text": [
      "[===========---------------------------------------] 22.7% 377.2/1662.8MB downloaded"
     ]
    },
    {
     "name": "stderr",
     "output_type": "stream",
     "text": [
      "IOPub message rate exceeded.\n",
      "The notebook server will temporarily stop sending output\n",
      "to the client in order to avoid crashing it.\n",
      "To change this limit, set the config variable\n",
      "`--NotebookApp.iopub_msg_rate_limit`.\n",
      "\n",
      "Current values:\n",
      "NotebookApp.iopub_msg_rate_limit=1000.0 (msgs/sec)\n",
      "NotebookApp.rate_limit_window=3.0 (secs)\n",
      "\n"
     ]
    },
    {
     "name": "stdout",
     "output_type": "stream",
     "text": [
      "[============--------------------------------------] 24.7% 410.4/1662.8MB downloaded"
     ]
    },
    {
     "name": "stderr",
     "output_type": "stream",
     "text": [
      "IOPub message rate exceeded.\n",
      "The notebook server will temporarily stop sending output\n",
      "to the client in order to avoid crashing it.\n",
      "To change this limit, set the config variable\n",
      "`--NotebookApp.iopub_msg_rate_limit`.\n",
      "\n",
      "Current values:\n",
      "NotebookApp.iopub_msg_rate_limit=1000.0 (msgs/sec)\n",
      "NotebookApp.rate_limit_window=3.0 (secs)\n",
      "\n"
     ]
    },
    {
     "name": "stdout",
     "output_type": "stream",
     "text": [
      "[=============-------------------------------------] 26.9% 447.2/1662.8MB downloaded"
     ]
    },
    {
     "name": "stderr",
     "output_type": "stream",
     "text": [
      "IOPub message rate exceeded.\n",
      "The notebook server will temporarily stop sending output\n",
      "to the client in order to avoid crashing it.\n",
      "To change this limit, set the config variable\n",
      "`--NotebookApp.iopub_msg_rate_limit`.\n",
      "\n",
      "Current values:\n",
      "NotebookApp.iopub_msg_rate_limit=1000.0 (msgs/sec)\n",
      "NotebookApp.rate_limit_window=3.0 (secs)\n",
      "\n"
     ]
    },
    {
     "name": "stdout",
     "output_type": "stream",
     "text": [
      "[==============------------------------------------] 28.9% 481.2/1662.8MB downloaded"
     ]
    },
    {
     "name": "stderr",
     "output_type": "stream",
     "text": [
      "IOPub message rate exceeded.\n",
      "The notebook server will temporarily stop sending output\n",
      "to the client in order to avoid crashing it.\n",
      "To change this limit, set the config variable\n",
      "`--NotebookApp.iopub_msg_rate_limit`.\n",
      "\n",
      "Current values:\n",
      "NotebookApp.iopub_msg_rate_limit=1000.0 (msgs/sec)\n",
      "NotebookApp.rate_limit_window=3.0 (secs)\n",
      "\n"
     ]
    },
    {
     "name": "stdout",
     "output_type": "stream",
     "text": [
      "[===============-----------------------------------] 31.3% 520.0/1662.8MB downloaded"
     ]
    },
    {
     "name": "stderr",
     "output_type": "stream",
     "text": [
      "IOPub message rate exceeded.\n",
      "The notebook server will temporarily stop sending output\n",
      "to the client in order to avoid crashing it.\n",
      "To change this limit, set the config variable\n",
      "`--NotebookApp.iopub_msg_rate_limit`.\n",
      "\n",
      "Current values:\n",
      "NotebookApp.iopub_msg_rate_limit=1000.0 (msgs/sec)\n",
      "NotebookApp.rate_limit_window=3.0 (secs)\n",
      "\n"
     ]
    },
    {
     "name": "stdout",
     "output_type": "stream",
     "text": [
      "[================----------------------------------] 33.3% 554.4/1662.8MB downloaded"
     ]
    },
    {
     "name": "stderr",
     "output_type": "stream",
     "text": [
      "IOPub message rate exceeded.\n",
      "The notebook server will temporarily stop sending output\n",
      "to the client in order to avoid crashing it.\n",
      "To change this limit, set the config variable\n",
      "`--NotebookApp.iopub_msg_rate_limit`.\n",
      "\n",
      "Current values:\n",
      "NotebookApp.iopub_msg_rate_limit=1000.0 (msgs/sec)\n",
      "NotebookApp.rate_limit_window=3.0 (secs)\n",
      "\n"
     ]
    },
    {
     "name": "stdout",
     "output_type": "stream",
     "text": [
      "[=================---------------------------------] 36.0% 598.4/1662.8MB downloaded"
     ]
    },
    {
     "name": "stderr",
     "output_type": "stream",
     "text": [
      "IOPub message rate exceeded.\n",
      "The notebook server will temporarily stop sending output\n",
      "to the client in order to avoid crashing it.\n",
      "To change this limit, set the config variable\n",
      "`--NotebookApp.iopub_msg_rate_limit`.\n",
      "\n",
      "Current values:\n",
      "NotebookApp.iopub_msg_rate_limit=1000.0 (msgs/sec)\n",
      "NotebookApp.rate_limit_window=3.0 (secs)\n",
      "\n"
     ]
    },
    {
     "name": "stdout",
     "output_type": "stream",
     "text": [
      "[===================-------------------------------] 38.9% 646.6/1662.8MB downloaded"
     ]
    },
    {
     "name": "stderr",
     "output_type": "stream",
     "text": [
      "IOPub message rate exceeded.\n",
      "The notebook server will temporarily stop sending output\n",
      "to the client in order to avoid crashing it.\n",
      "To change this limit, set the config variable\n",
      "`--NotebookApp.iopub_msg_rate_limit`.\n",
      "\n",
      "Current values:\n",
      "NotebookApp.iopub_msg_rate_limit=1000.0 (msgs/sec)\n",
      "NotebookApp.rate_limit_window=3.0 (secs)\n",
      "\n"
     ]
    },
    {
     "name": "stdout",
     "output_type": "stream",
     "text": [
      "[====================------------------------------] 41.9% 696.2/1662.8MB downloaded"
     ]
    },
    {
     "name": "stderr",
     "output_type": "stream",
     "text": [
      "IOPub message rate exceeded.\n",
      "The notebook server will temporarily stop sending output\n",
      "to the client in order to avoid crashing it.\n",
      "To change this limit, set the config variable\n",
      "`--NotebookApp.iopub_msg_rate_limit`.\n",
      "\n",
      "Current values:\n",
      "NotebookApp.iopub_msg_rate_limit=1000.0 (msgs/sec)\n",
      "NotebookApp.rate_limit_window=3.0 (secs)\n",
      "\n"
     ]
    },
    {
     "name": "stdout",
     "output_type": "stream",
     "text": [
      "[=====================-----------------------------] 42.7% 710.4/1662.8MB downloaded"
     ]
    },
    {
     "name": "stderr",
     "output_type": "stream",
     "text": [
      "IOPub message rate exceeded.\n",
      "The notebook server will temporarily stop sending output\n",
      "to the client in order to avoid crashing it.\n",
      "To change this limit, set the config variable\n",
      "`--NotebookApp.iopub_msg_rate_limit`.\n",
      "\n",
      "Current values:\n",
      "NotebookApp.iopub_msg_rate_limit=1000.0 (msgs/sec)\n",
      "NotebookApp.rate_limit_window=3.0 (secs)\n",
      "\n"
     ]
    },
    {
     "name": "stdout",
     "output_type": "stream",
     "text": [
      "[=====================-----------------------------] 43.9% 730.2/1662.8MB downloaded"
     ]
    },
    {
     "name": "stderr",
     "output_type": "stream",
     "text": [
      "IOPub message rate exceeded.\n",
      "The notebook server will temporarily stop sending output\n",
      "to the client in order to avoid crashing it.\n",
      "To change this limit, set the config variable\n",
      "`--NotebookApp.iopub_msg_rate_limit`.\n",
      "\n",
      "Current values:\n",
      "NotebookApp.iopub_msg_rate_limit=1000.0 (msgs/sec)\n",
      "NotebookApp.rate_limit_window=3.0 (secs)\n",
      "\n"
     ]
    },
    {
     "name": "stdout",
     "output_type": "stream",
     "text": [
      "[======================----------------------------] 44.9% 746.4/1662.8MB downloaded"
     ]
    },
    {
     "name": "stderr",
     "output_type": "stream",
     "text": [
      "IOPub message rate exceeded.\n",
      "The notebook server will temporarily stop sending output\n",
      "to the client in order to avoid crashing it.\n",
      "To change this limit, set the config variable\n",
      "`--NotebookApp.iopub_msg_rate_limit`.\n",
      "\n",
      "Current values:\n",
      "NotebookApp.iopub_msg_rate_limit=1000.0 (msgs/sec)\n",
      "NotebookApp.rate_limit_window=3.0 (secs)\n",
      "\n"
     ]
    },
    {
     "name": "stdout",
     "output_type": "stream",
     "text": [
      "[=======================---------------------------] 46.3% 769.2/1662.8MB downloaded"
     ]
    },
    {
     "name": "stderr",
     "output_type": "stream",
     "text": [
      "IOPub message rate exceeded.\n",
      "The notebook server will temporarily stop sending output\n",
      "to the client in order to avoid crashing it.\n",
      "To change this limit, set the config variable\n",
      "`--NotebookApp.iopub_msg_rate_limit`.\n",
      "\n",
      "Current values:\n",
      "NotebookApp.iopub_msg_rate_limit=1000.0 (msgs/sec)\n",
      "NotebookApp.rate_limit_window=3.0 (secs)\n",
      "\n"
     ]
    },
    {
     "name": "stdout",
     "output_type": "stream",
     "text": [
      "[=======================---------------------------] 47.5% 790.4/1662.8MB downloaded"
     ]
    },
    {
     "name": "stderr",
     "output_type": "stream",
     "text": [
      "IOPub message rate exceeded.\n",
      "The notebook server will temporarily stop sending output\n",
      "to the client in order to avoid crashing it.\n",
      "To change this limit, set the config variable\n",
      "`--NotebookApp.iopub_msg_rate_limit`.\n",
      "\n",
      "Current values:\n",
      "NotebookApp.iopub_msg_rate_limit=1000.0 (msgs/sec)\n",
      "NotebookApp.rate_limit_window=3.0 (secs)\n",
      "\n"
     ]
    },
    {
     "name": "stdout",
     "output_type": "stream",
     "text": [
      "[========================--------------------------] 49.1% 815.7/1662.8MB downloaded"
     ]
    },
    {
     "name": "stderr",
     "output_type": "stream",
     "text": [
      "IOPub message rate exceeded.\n",
      "The notebook server will temporarily stop sending output\n",
      "to the client in order to avoid crashing it.\n",
      "To change this limit, set the config variable\n",
      "`--NotebookApp.iopub_msg_rate_limit`.\n",
      "\n",
      "Current values:\n",
      "NotebookApp.iopub_msg_rate_limit=1000.0 (msgs/sec)\n",
      "NotebookApp.rate_limit_window=3.0 (secs)\n",
      "\n"
     ]
    },
    {
     "name": "stdout",
     "output_type": "stream",
     "text": [
      "[=========================-------------------------] 50.1% 832.4/1662.8MB downloaded"
     ]
    },
    {
     "name": "stderr",
     "output_type": "stream",
     "text": [
      "IOPub message rate exceeded.\n",
      "The notebook server will temporarily stop sending output\n",
      "to the client in order to avoid crashing it.\n",
      "To change this limit, set the config variable\n",
      "`--NotebookApp.iopub_msg_rate_limit`.\n",
      "\n",
      "Current values:\n",
      "NotebookApp.iopub_msg_rate_limit=1000.0 (msgs/sec)\n",
      "NotebookApp.rate_limit_window=3.0 (secs)\n",
      "\n"
     ]
    },
    {
     "name": "stdout",
     "output_type": "stream",
     "text": [
      "[=========================-------------------------] 51.2% 851.4/1662.8MB downloaded"
     ]
    },
    {
     "name": "stderr",
     "output_type": "stream",
     "text": [
      "IOPub message rate exceeded.\n",
      "The notebook server will temporarily stop sending output\n",
      "to the client in order to avoid crashing it.\n",
      "To change this limit, set the config variable\n",
      "`--NotebookApp.iopub_msg_rate_limit`.\n",
      "\n",
      "Current values:\n",
      "NotebookApp.iopub_msg_rate_limit=1000.0 (msgs/sec)\n",
      "NotebookApp.rate_limit_window=3.0 (secs)\n",
      "\n"
     ]
    },
    {
     "name": "stdout",
     "output_type": "stream",
     "text": [
      "[==========================------------------------] 52.3% 868.9/1662.8MB downloaded"
     ]
    },
    {
     "name": "stderr",
     "output_type": "stream",
     "text": [
      "IOPub message rate exceeded.\n",
      "The notebook server will temporarily stop sending output\n",
      "to the client in order to avoid crashing it.\n",
      "To change this limit, set the config variable\n",
      "`--NotebookApp.iopub_msg_rate_limit`.\n",
      "\n",
      "Current values:\n",
      "NotebookApp.iopub_msg_rate_limit=1000.0 (msgs/sec)\n",
      "NotebookApp.rate_limit_window=3.0 (secs)\n",
      "\n"
     ]
    },
    {
     "name": "stdout",
     "output_type": "stream",
     "text": [
      "[==========================------------------------] 53.3% 886.9/1662.8MB downloaded"
     ]
    },
    {
     "name": "stderr",
     "output_type": "stream",
     "text": [
      "IOPub message rate exceeded.\n",
      "The notebook server will temporarily stop sending output\n",
      "to the client in order to avoid crashing it.\n",
      "To change this limit, set the config variable\n",
      "`--NotebookApp.iopub_msg_rate_limit`.\n",
      "\n",
      "Current values:\n",
      "NotebookApp.iopub_msg_rate_limit=1000.0 (msgs/sec)\n",
      "NotebookApp.rate_limit_window=3.0 (secs)\n",
      "\n"
     ]
    },
    {
     "name": "stdout",
     "output_type": "stream",
     "text": [
      "[===========================-----------------------] 55.0% 913.8/1662.8MB downloaded"
     ]
    },
    {
     "name": "stderr",
     "output_type": "stream",
     "text": [
      "IOPub message rate exceeded.\n",
      "The notebook server will temporarily stop sending output\n",
      "to the client in order to avoid crashing it.\n",
      "To change this limit, set the config variable\n",
      "`--NotebookApp.iopub_msg_rate_limit`.\n",
      "\n",
      "Current values:\n",
      "NotebookApp.iopub_msg_rate_limit=1000.0 (msgs/sec)\n",
      "NotebookApp.rate_limit_window=3.0 (secs)\n",
      "\n"
     ]
    },
    {
     "name": "stdout",
     "output_type": "stream",
     "text": [
      "[============================----------------------] 57.0% 948.5/1662.8MB downloaded"
     ]
    },
    {
     "name": "stderr",
     "output_type": "stream",
     "text": [
      "IOPub message rate exceeded.\n",
      "The notebook server will temporarily stop sending output\n",
      "to the client in order to avoid crashing it.\n",
      "To change this limit, set the config variable\n",
      "`--NotebookApp.iopub_msg_rate_limit`.\n",
      "\n",
      "Current values:\n",
      "NotebookApp.iopub_msg_rate_limit=1000.0 (msgs/sec)\n",
      "NotebookApp.rate_limit_window=3.0 (secs)\n",
      "\n"
     ]
    },
    {
     "name": "stdout",
     "output_type": "stream",
     "text": [
      "[=============================---------------------] 59.3% 985.6/1662.8MB downloaded"
     ]
    },
    {
     "name": "stderr",
     "output_type": "stream",
     "text": [
      "IOPub message rate exceeded.\n",
      "The notebook server will temporarily stop sending output\n",
      "to the client in order to avoid crashing it.\n",
      "To change this limit, set the config variable\n",
      "`--NotebookApp.iopub_msg_rate_limit`.\n",
      "\n",
      "Current values:\n",
      "NotebookApp.iopub_msg_rate_limit=1000.0 (msgs/sec)\n",
      "NotebookApp.rate_limit_window=3.0 (secs)\n",
      "\n"
     ]
    },
    {
     "name": "stdout",
     "output_type": "stream",
     "text": [
      "[==============================--------------------] 61.6% 1024.8/1662.8MB downloaded"
     ]
    },
    {
     "name": "stderr",
     "output_type": "stream",
     "text": [
      "IOPub message rate exceeded.\n",
      "The notebook server will temporarily stop sending output\n",
      "to the client in order to avoid crashing it.\n",
      "To change this limit, set the config variable\n",
      "`--NotebookApp.iopub_msg_rate_limit`.\n",
      "\n",
      "Current values:\n",
      "NotebookApp.iopub_msg_rate_limit=1000.0 (msgs/sec)\n",
      "NotebookApp.rate_limit_window=3.0 (secs)\n",
      "\n"
     ]
    },
    {
     "name": "stdout",
     "output_type": "stream",
     "text": [
      "[===============================-------------------] 63.7% 1059.4/1662.8MB downloaded"
     ]
    },
    {
     "name": "stderr",
     "output_type": "stream",
     "text": [
      "IOPub message rate exceeded.\n",
      "The notebook server will temporarily stop sending output\n",
      "to the client in order to avoid crashing it.\n",
      "To change this limit, set the config variable\n",
      "`--NotebookApp.iopub_msg_rate_limit`.\n",
      "\n",
      "Current values:\n",
      "NotebookApp.iopub_msg_rate_limit=1000.0 (msgs/sec)\n",
      "NotebookApp.rate_limit_window=3.0 (secs)\n",
      "\n"
     ]
    },
    {
     "name": "stdout",
     "output_type": "stream",
     "text": [
      "[================================------------------] 66.0% 1096.9/1662.8MB downloaded"
     ]
    },
    {
     "name": "stderr",
     "output_type": "stream",
     "text": [
      "IOPub message rate exceeded.\n",
      "The notebook server will temporarily stop sending output\n",
      "to the client in order to avoid crashing it.\n",
      "To change this limit, set the config variable\n",
      "`--NotebookApp.iopub_msg_rate_limit`.\n",
      "\n",
      "Current values:\n",
      "NotebookApp.iopub_msg_rate_limit=1000.0 (msgs/sec)\n",
      "NotebookApp.rate_limit_window=3.0 (secs)\n",
      "\n"
     ]
    },
    {
     "name": "stdout",
     "output_type": "stream",
     "text": [
      "[==================================----------------] 68.8% 1144.8/1662.8MB downloaded"
     ]
    },
    {
     "name": "stderr",
     "output_type": "stream",
     "text": [
      "IOPub message rate exceeded.\n",
      "The notebook server will temporarily stop sending output\n",
      "to the client in order to avoid crashing it.\n",
      "To change this limit, set the config variable\n",
      "`--NotebookApp.iopub_msg_rate_limit`.\n",
      "\n",
      "Current values:\n",
      "NotebookApp.iopub_msg_rate_limit=1000.0 (msgs/sec)\n",
      "NotebookApp.rate_limit_window=3.0 (secs)\n",
      "\n"
     ]
    },
    {
     "name": "stdout",
     "output_type": "stream",
     "text": [
      "[===================================---------------] 71.9% 1194.7/1662.8MB downloaded"
     ]
    },
    {
     "name": "stderr",
     "output_type": "stream",
     "text": [
      "IOPub message rate exceeded.\n",
      "The notebook server will temporarily stop sending output\n",
      "to the client in order to avoid crashing it.\n",
      "To change this limit, set the config variable\n",
      "`--NotebookApp.iopub_msg_rate_limit`.\n",
      "\n",
      "Current values:\n",
      "NotebookApp.iopub_msg_rate_limit=1000.0 (msgs/sec)\n",
      "NotebookApp.rate_limit_window=3.0 (secs)\n",
      "\n"
     ]
    },
    {
     "name": "stdout",
     "output_type": "stream",
     "text": [
      "[=====================================-------------] 75.8% 1260.4/1662.8MB downloaded"
     ]
    },
    {
     "name": "stderr",
     "output_type": "stream",
     "text": [
      "IOPub message rate exceeded.\n",
      "The notebook server will temporarily stop sending output\n",
      "to the client in order to avoid crashing it.\n",
      "To change this limit, set the config variable\n",
      "`--NotebookApp.iopub_msg_rate_limit`.\n",
      "\n",
      "Current values:\n",
      "NotebookApp.iopub_msg_rate_limit=1000.0 (msgs/sec)\n",
      "NotebookApp.rate_limit_window=3.0 (secs)\n",
      "\n"
     ]
    },
    {
     "name": "stdout",
     "output_type": "stream",
     "text": [
      "[=======================================-----------] 79.1% 1315.9/1662.8MB downloaded"
     ]
    },
    {
     "name": "stderr",
     "output_type": "stream",
     "text": [
      "IOPub message rate exceeded.\n",
      "The notebook server will temporarily stop sending output\n",
      "to the client in order to avoid crashing it.\n",
      "To change this limit, set the config variable\n",
      "`--NotebookApp.iopub_msg_rate_limit`.\n",
      "\n",
      "Current values:\n",
      "NotebookApp.iopub_msg_rate_limit=1000.0 (msgs/sec)\n",
      "NotebookApp.rate_limit_window=3.0 (secs)\n",
      "\n"
     ]
    },
    {
     "name": "stdout",
     "output_type": "stream",
     "text": [
      "[=========================================---------] 82.3% 1368.7/1662.8MB downloaded"
     ]
    },
    {
     "name": "stderr",
     "output_type": "stream",
     "text": [
      "IOPub message rate exceeded.\n",
      "The notebook server will temporarily stop sending output\n",
      "to the client in order to avoid crashing it.\n",
      "To change this limit, set the config variable\n",
      "`--NotebookApp.iopub_msg_rate_limit`.\n",
      "\n",
      "Current values:\n",
      "NotebookApp.iopub_msg_rate_limit=1000.0 (msgs/sec)\n",
      "NotebookApp.rate_limit_window=3.0 (secs)\n",
      "\n"
     ]
    },
    {
     "name": "stdout",
     "output_type": "stream",
     "text": [
      "[==========================================--------] 85.0% 1412.6/1662.8MB downloaded"
     ]
    },
    {
     "name": "stderr",
     "output_type": "stream",
     "text": [
      "IOPub message rate exceeded.\n",
      "The notebook server will temporarily stop sending output\n",
      "to the client in order to avoid crashing it.\n",
      "To change this limit, set the config variable\n",
      "`--NotebookApp.iopub_msg_rate_limit`.\n",
      "\n",
      "Current values:\n",
      "NotebookApp.iopub_msg_rate_limit=1000.0 (msgs/sec)\n",
      "NotebookApp.rate_limit_window=3.0 (secs)\n",
      "\n"
     ]
    },
    {
     "name": "stdout",
     "output_type": "stream",
     "text": [
      "[===========================================-------] 87.6% 1456.1/1662.8MB downloaded"
     ]
    },
    {
     "name": "stderr",
     "output_type": "stream",
     "text": [
      "IOPub message rate exceeded.\n",
      "The notebook server will temporarily stop sending output\n",
      "to the client in order to avoid crashing it.\n",
      "To change this limit, set the config variable\n",
      "`--NotebookApp.iopub_msg_rate_limit`.\n",
      "\n",
      "Current values:\n",
      "NotebookApp.iopub_msg_rate_limit=1000.0 (msgs/sec)\n",
      "NotebookApp.rate_limit_window=3.0 (secs)\n",
      "\n"
     ]
    },
    {
     "name": "stdout",
     "output_type": "stream",
     "text": [
      "[=============================================-----] 90.3% 1501.0/1662.8MB downloaded"
     ]
    },
    {
     "name": "stderr",
     "output_type": "stream",
     "text": [
      "IOPub message rate exceeded.\n",
      "The notebook server will temporarily stop sending output\n",
      "to the client in order to avoid crashing it.\n",
      "To change this limit, set the config variable\n",
      "`--NotebookApp.iopub_msg_rate_limit`.\n",
      "\n",
      "Current values:\n",
      "NotebookApp.iopub_msg_rate_limit=1000.0 (msgs/sec)\n",
      "NotebookApp.rate_limit_window=3.0 (secs)\n",
      "\n"
     ]
    },
    {
     "name": "stdout",
     "output_type": "stream",
     "text": [
      "[==============================================----] 93.2% 1549.2/1662.8MB downloaded"
     ]
    },
    {
     "name": "stderr",
     "output_type": "stream",
     "text": [
      "IOPub message rate exceeded.\n",
      "The notebook server will temporarily stop sending output\n",
      "to the client in order to avoid crashing it.\n",
      "To change this limit, set the config variable\n",
      "`--NotebookApp.iopub_msg_rate_limit`.\n",
      "\n",
      "Current values:\n",
      "NotebookApp.iopub_msg_rate_limit=1000.0 (msgs/sec)\n",
      "NotebookApp.rate_limit_window=3.0 (secs)\n",
      "\n"
     ]
    },
    {
     "name": "stdout",
     "output_type": "stream",
     "text": [
      "[===============================================---] 95.5% 1588.8/1662.8MB downloaded"
     ]
    },
    {
     "name": "stderr",
     "output_type": "stream",
     "text": [
      "IOPub message rate exceeded.\n",
      "The notebook server will temporarily stop sending output\n",
      "to the client in order to avoid crashing it.\n",
      "To change this limit, set the config variable\n",
      "`--NotebookApp.iopub_msg_rate_limit`.\n",
      "\n",
      "Current values:\n",
      "NotebookApp.iopub_msg_rate_limit=1000.0 (msgs/sec)\n",
      "NotebookApp.rate_limit_window=3.0 (secs)\n",
      "\n"
     ]
    },
    {
     "name": "stdout",
     "output_type": "stream",
     "text": [
      "[=================================================-] 98.5% 1637.4/1662.8MB downloaded"
     ]
    },
    {
     "name": "stderr",
     "output_type": "stream",
     "text": [
      "IOPub message rate exceeded.\n",
      "The notebook server will temporarily stop sending output\n",
      "to the client in order to avoid crashing it.\n",
      "To change this limit, set the config variable\n",
      "`--NotebookApp.iopub_msg_rate_limit`.\n",
      "\n",
      "Current values:\n",
      "NotebookApp.iopub_msg_rate_limit=1000.0 (msgs/sec)\n",
      "NotebookApp.rate_limit_window=3.0 (secs)\n",
      "\n"
     ]
    },
    {
     "name": "stdout",
     "output_type": "stream",
     "text": [
      "\n"
     ]
    }
   ],
   "source": [
    "w2v_google_news = api.load('word2vec-google-news-300')"
   ]
  },
  {
   "cell_type": "code",
   "execution_count": 216,
   "id": "92dbf91e-550e-4ae3-9000-894494c65937",
   "metadata": {},
   "outputs": [
    {
     "data": {
      "text/plain": [
       "[('queen', 0.9314123392105103),\n",
       " ('monarch', 0.858533501625061),\n",
       " ('princess', 0.8476566672325134),\n",
       " ('Queen_Consort', 0.8150269389152527),\n",
       " ('queens', 0.8099815249443054),\n",
       " ('crown_prince', 0.8089976906776428),\n",
       " ('royal_palace', 0.8027306795120239),\n",
       " ('monarchy', 0.8019613027572632),\n",
       " ('prince', 0.800979733467102),\n",
       " ('empress', 0.7958388328552246)]"
      ]
     },
     "execution_count": 216,
     "metadata": {},
     "output_type": "execute_result"
    }
   ],
   "source": [
    "# you can run code for analogies, I have included the king - man, + woman = queen example to start\n",
    "w2v_google_news.most_similar_cosmul(positive=['king','woman'], negative=['man'])"
   ]
  },
  {
   "cell_type": "code",
   "execution_count": 217,
   "id": "fcb3528a-036c-41bf-8015-61efaf10295f",
   "metadata": {},
   "outputs": [
    {
     "data": {
      "text/plain": [
       "[('patriots', 0.6744824051856995),\n",
       " ('patriotic', 0.5867904424667358),\n",
       " ('statesman', 0.5711327791213989),\n",
       " ('constitutionalist', 0.557580292224884),\n",
       " ('traitor', 0.5424764752388),\n",
       " ('revolutionist', 0.5388074517250061),\n",
       " ('hero', 0.5304942727088928),\n",
       " ('ardent_patriot', 0.5239595174789429),\n",
       " ('patriotism', 0.5227564573287964),\n",
       " ('rabble_rouser', 0.5194998383522034)]"
      ]
     },
     "execution_count": 217,
     "metadata": {},
     "output_type": "execute_result"
    }
   ],
   "source": [
    "# comparing words similar to a single word\n",
    "w2v_google_news.most_similar('patriot')"
   ]
  },
  {
   "cell_type": "code",
   "execution_count": 218,
   "id": "15cd0763-03a5-422a-a362-0748a3dd54de",
   "metadata": {},
   "outputs": [
    {
     "data": {
      "text/plain": [
       "0.7869569361209869"
      ]
     },
     "execution_count": 218,
     "metadata": {},
     "output_type": "execute_result"
    }
   ],
   "source": [
    "w2v_google_news.distance('president', 'patriot')"
   ]
  },
  {
   "cell_type": "markdown",
   "id": "0e9bc325-62a3-4b45-aad7-4545c6d936d1",
   "metadata": {},
   "source": [
    "Explore different word relationships using the tools above or commands from the linked documentation, what relationships seem surprising? Why might the model have embedded certain words in similar ways when linguistically we wouldn't expect them to be similar? Use at least one new example per method."
   ]
  },
  {
   "cell_type": "code",
   "execution_count": 238,
   "id": "3fc401de-90ac-4fdd-9b17-f30d8ab1661d",
   "metadata": {},
   "outputs": [
    {
     "data": {
      "text/plain": [
       "[('grandmother', 0.8582088351249695),\n",
       " ('cow', 0.8554173707962036),\n",
       " ('Grandmother', 0.8421149849891663),\n",
       " ('granddaughter', 0.8380693793296814),\n",
       " ('albino_buffalo', 0.8244361877441406),\n",
       " ('Vance_Ehmke_tracks', 0.8210681676864624),\n",
       " ('buffalo_roam', 0.8183169364929199),\n",
       " ('husband_funeral_pyre', 0.8180189728736877),\n",
       " ('aunt', 0.8175702095031738),\n",
       " ('hunter_stray_bullet', 0.81653892993927)]"
      ]
     },
     "execution_count": 238,
     "metadata": {},
     "output_type": "execute_result"
    }
   ],
   "source": [
    "w2v_google_news.most_similar_cosmul(positive=['buffalo','woman'], negative=['male'])"
   ]
  },
  {
   "cell_type": "code",
   "execution_count": 233,
   "id": "bb97e608-4917-4b25-bee1-dccb28efd6d9",
   "metadata": {},
   "outputs": [
    {
     "data": {
      "text/plain": [
       "[('alice', 0.6571455001831055),\n",
       " ('harry_potter', 0.6108603477478027),\n",
       " ('gwen', 0.5985742211341858),\n",
       " ('mario', 0.5946715474128723),\n",
       " ('nolan', 0.5925750136375427),\n",
       " ('disneyland', 0.584934413433075),\n",
       " ('orlando', 0.5845032334327698),\n",
       " ('hannah_montana', 0.5791226625442505),\n",
       " ('jackie', 0.5755027532577515),\n",
       " ('nikki', 0.5743952989578247)]"
      ]
     },
     "execution_count": 233,
     "metadata": {},
     "output_type": "execute_result"
    }
   ],
   "source": [
    "w2v_google_news.most_similar('disney')"
   ]
  },
  {
   "cell_type": "code",
   "execution_count": 229,
   "id": "ef6f0648-6d02-45e3-aa1e-d0ed6e9e603c",
   "metadata": {},
   "outputs": [
    {
     "data": {
      "text/plain": [
       "0.992013331502676"
      ]
     },
     "execution_count": 229,
     "metadata": {},
     "output_type": "execute_result"
    }
   ],
   "source": [
    "w2v_google_news.distance('president', 'scam')"
   ]
  }
 ],
 "metadata": {
  "kernelspec": {
   "display_name": "Python 3 (ipykernel)",
   "language": "python",
   "name": "python3"
  },
  "language_info": {
   "codemirror_mode": {
    "name": "ipython",
    "version": 3
   },
   "file_extension": ".py",
   "mimetype": "text/x-python",
   "name": "python",
   "nbconvert_exporter": "python",
   "pygments_lexer": "ipython3",
   "version": "3.9.13"
  }
 },
 "nbformat": 4,
 "nbformat_minor": 5
}
